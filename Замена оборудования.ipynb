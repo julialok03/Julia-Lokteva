{
 "cells": [
  {
   "cell_type": "code",
   "execution_count": 1,
   "id": "1dc70363",
   "metadata": {},
   "outputs": [],
   "source": [
    "import numpy as np"
   ]
  },
  {
   "cell_type": "code",
   "execution_count": 17,
   "id": "d17786fe",
   "metadata": {},
   "outputs": [],
   "source": [
    "revenue = [80, 75, 65, 60, 60, 55]\n",
    "cost = [20, 25, 30, 35, 45, 55]\n",
    "new = 40"
   ]
  },
  {
   "cell_type": "code",
   "execution_count": 18,
   "id": "4a18e4c6",
   "metadata": {},
   "outputs": [],
   "source": [
    "def equipment(revenue, cost, cost_of_new):\n",
    "    n = len(revenue)-1\n",
    "    f = [[0] * n]\n",
    "    u = []\n",
    "    while n > 1:\n",
    "        ff = []\n",
    "        uu = []\n",
    "        for i in range(1, n):\n",
    "            a = revenue[i] - cost[i] + f[len(revenue)-n-1][i]\n",
    "            b = revenue[0] - cost[0] - cost_of_new + f[len(revenue)-n-1][0]\n",
    "            if a > b:\n",
    "                ff.append(a)\n",
    "                uu.append('н')\n",
    "            else:\n",
    "                ff.append(b)\n",
    "                uu.append('з')\n",
    "        n -= 1\n",
    "        f.append(ff)\n",
    "        u.append(uu)\n",
    "    a = revenue[0] - cost[0] + f[len(revenue)-n-1][0]\n",
    "    f.append([a])\n",
    "    u.append(['н'])\n",
    "    max_profit = a\n",
    "    descisions = ['н']\n",
    "    years = 0\n",
    "    i = 2\n",
    "    while i < len(revenue):\n",
    "        descision = u[-i][years]\n",
    "        if descision == 'н':\n",
    "            years += 1\n",
    "        else:\n",
    "            years = 0\n",
    "        descisions.append(descision)\n",
    "        i += 1\n",
    "    descisions = ['не меняем' if descisions[i]=='н' else 'меняем' for i in range(len(descisions))]\n",
    "    return max_profit, descisions"
   ]
  },
  {
   "cell_type": "code",
   "execution_count": 19,
   "id": "97b297f4",
   "metadata": {},
   "outputs": [
    {
     "data": {
      "text/plain": [
       "(215, ['не меняем', 'не меняем', 'меняем', 'не меняем', 'не меняем'])"
      ]
     },
     "execution_count": 19,
     "metadata": {},
     "output_type": "execute_result"
    }
   ],
   "source": [
    "equipment(revenue=revenue, cost=cost, cost_of_new=new)"
   ]
  },
  {
   "cell_type": "code",
   "execution_count": 20,
   "id": "f1f7fbfb",
   "metadata": {},
   "outputs": [],
   "source": [
    "revenue = [25,24,24,23,23,23,22,22,21,20]\n",
    "cost = [15,15,16,16,17,17,18,18,19,20]\n",
    "new = 10"
   ]
  },
  {
   "cell_type": "code",
   "execution_count": 21,
   "id": "0136d9b1",
   "metadata": {},
   "outputs": [
    {
     "data": {
      "text/plain": [
       "(64,\n",
       " ['не меняем',\n",
       "  'не меняем',\n",
       "  'не меняем',\n",
       "  'не меняем',\n",
       "  'меняем',\n",
       "  'не меняем',\n",
       "  'не меняем',\n",
       "  'не меняем',\n",
       "  'не меняем'])"
      ]
     },
     "execution_count": 21,
     "metadata": {},
     "output_type": "execute_result"
    }
   ],
   "source": [
    "equipment(revenue=revenue, cost=cost, cost_of_new=new)"
   ]
  },
  {
   "cell_type": "code",
   "execution_count": 22,
   "id": "ee5de9e1",
   "metadata": {},
   "outputs": [],
   "source": [
    "revenue = [25,24,24,23,23,23,22,22,21,20]\n",
    "cost = [15,15,16,16,17,17,18,18,19,20]\n",
    "new = 7"
   ]
  },
  {
   "cell_type": "code",
   "execution_count": 23,
   "id": "f383bb22",
   "metadata": {},
   "outputs": [
    {
     "data": {
      "text/plain": [
       "(67,\n",
       " ['не меняем',\n",
       "  'не меняем',\n",
       "  'не меняем',\n",
       "  'меняем',\n",
       "  'не меняем',\n",
       "  'не меняем',\n",
       "  'меняем',\n",
       "  'не меняем',\n",
       "  'не меняем'])"
      ]
     },
     "execution_count": 23,
     "metadata": {},
     "output_type": "execute_result"
    }
   ],
   "source": [
    "equipment(revenue=revenue, cost=cost, cost_of_new=new)"
   ]
  },
  {
   "cell_type": "code",
   "execution_count": null,
   "id": "1855a40b",
   "metadata": {},
   "outputs": [],
   "source": []
  }
 ],
 "metadata": {
  "kernelspec": {
   "display_name": "Python 3 (ipykernel)",
   "language": "python",
   "name": "python3"
  },
  "language_info": {
   "codemirror_mode": {
    "name": "ipython",
    "version": 3
   },
   "file_extension": ".py",
   "mimetype": "text/x-python",
   "name": "python",
   "nbconvert_exporter": "python",
   "pygments_lexer": "ipython3",
   "version": "3.11.5"
  }
 },
 "nbformat": 4,
 "nbformat_minor": 5
}
