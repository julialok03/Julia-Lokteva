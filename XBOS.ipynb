{
 "cells": [
  {
   "cell_type": "code",
   "execution_count": 24,
   "id": "11e799cb",
   "metadata": {},
   "outputs": [],
   "source": [
    "from sklearn.cluster import KMeans\n",
    "import numpy as np\n",
    "from pandas import DataFrame\n",
    "from math import pow\n",
    "import math\n",
    "\n",
    "class XBOS:\n",
    "    \n",
    "    def __init__(self,n_clusters=15,effectiveness=500,max_iter=2):\n",
    "        self.n_clusters=n_clusters\n",
    "        self.effectiveness=effectiveness\n",
    "        self.max_iter=max_iter\n",
    "        self.kmeans = {}\n",
    "        self.cluster_score = {}\n",
    "        \n",
    "    def fit(self, data):\n",
    "        length = len(data)\n",
    "        for column in data.columns:\n",
    "            kmeans = KMeans(n_clusters=self.n_clusters,max_iter=self.max_iter)\n",
    "            self.kmeans[column]=kmeans\n",
    "            kmeans.fit(data[column].values.reshape(-1,1))\n",
    "            assign = DataFrame(kmeans.predict(data[column].values.reshape(-1,1)),columns=['cluster'])\n",
    "            cluster_score=assign.groupby('cluster').apply(len).apply(lambda x:x/length)\n",
    "            ratio=cluster_score.copy()\n",
    "        \n",
    "            sorted_centers = sorted(kmeans.cluster_centers_)\n",
    "            max_distance = ( sorted_centers[-1] - sorted_centers[0] )[ 0 ]\n",
    "        \n",
    "            for i in range(self.n_clusters):\n",
    "                for k in range(self.n_clusters):\n",
    "                    if i != k:\n",
    "                        dist = abs(kmeans.cluster_centers_[i] - kmeans.cluster_centers_[k])/max_distance\n",
    "                        effect = ratio[k]*(1/pow(self.effectiveness,dist))\n",
    "                        cluster_score[i] = cluster_score[i]+effect\n",
    "                        \n",
    "            self.cluster_score[column] = cluster_score\n",
    "                    \n",
    "    def predict(self, data):\n",
    "        length = len(data)\n",
    "        score_array = np.zeros(length)\n",
    "        for column in data.columns:\n",
    "            kmeans = self.kmeans[ column ]\n",
    "            cluster_score = self.cluster_score[ column ]\n",
    "            \n",
    "            assign = kmeans.predict( data[ column ].values.reshape(-1,1) )\n",
    "            #print(assign)\n",
    "            \n",
    "            for i in range(length):\n",
    "                score_array[i] = score_array[i] + math.log10( cluster_score[assign[i]] )\n",
    "            \n",
    "        return score_array\n",
    "    \n",
    "    def fit_predict(self,data):\n",
    "        self.fit(data)\n",
    "        return self.predict(data)"
   ]
  },
  {
   "cell_type": "code",
   "execution_count": 57,
   "id": "e2999ae6",
   "metadata": {},
   "outputs": [],
   "source": [
    "import pandas as pd\n",
    "dataset =pd.DataFrame({'attr1':[1,1,1,1,2,2,2,2,2,2,2,2,3,5,5,6,6,7,7,7,7,7,7,7,15],\n",
    " 'attr2':[1,1,1,1,2,2,2,2,2,2,2,2,3,5,5,6,6,7,7,7,13,13,13,14,15]})\n",
    "orig = dataset.copy()"
   ]
  },
  {
   "cell_type": "code",
   "execution_count": 58,
   "id": "ccd13fbe",
   "metadata": {},
   "outputs": [
    {
     "name": "stderr",
     "output_type": "stream",
     "text": [
      "C:\\Users\\mrrr_\\anaconda3\\Lib\\site-packages\\sklearn\\cluster\\_kmeans.py:1446: UserWarning: KMeans is known to have a memory leak on Windows with MKL, when there are less chunks than available threads. You can avoid it by setting the environment variable OMP_NUM_THREADS=1.\n",
      "  warnings.warn(\n",
      "C:\\Users\\mrrr_\\AppData\\Local\\Temp\\ipykernel_5484\\215075392.py:33: DeprecationWarning: Conversion of an array with ndim > 0 to a scalar is deprecated, and will error in future. Ensure you extract a single element from your array before performing this operation. (Deprecated NumPy 1.25.)\n",
      "  effect = ratio[k]*(1/pow(self.effectiveness,dist))\n",
      "C:\\Users\\mrrr_\\anaconda3\\Lib\\site-packages\\sklearn\\cluster\\_kmeans.py:1446: UserWarning: KMeans is known to have a memory leak on Windows with MKL, when there are less chunks than available threads. You can avoid it by setting the environment variable OMP_NUM_THREADS=1.\n",
      "  warnings.warn(\n",
      "C:\\Users\\mrrr_\\AppData\\Local\\Temp\\ipykernel_5484\\215075392.py:33: DeprecationWarning: Conversion of an array with ndim > 0 to a scalar is deprecated, and will error in future. Ensure you extract a single element from your array before performing this operation. (Deprecated NumPy 1.25.)\n",
      "  effect = ratio[k]*(1/pow(self.effectiveness,dist))\n"
     ]
    }
   ],
   "source": [
    "xbos = XBOS(n_clusters=3)\n",
    "result = xbos.fit_predict(orig)"
   ]
  },
  {
   "cell_type": "code",
   "execution_count": 59,
   "id": "b0b2fc21",
   "metadata": {
    "scrolled": false
   },
   "outputs": [
    {
     "name": "stdout",
     "output_type": "stream",
     "text": [
      "-0.51\n",
      "-0.51\n",
      "-0.51\n",
      "-0.51\n",
      "-0.51\n",
      "-0.51\n",
      "-0.51\n",
      "-0.51\n",
      "-0.51\n",
      "-0.51\n",
      "-0.51\n",
      "-0.51\n",
      "-0.51\n",
      "-0.78\n",
      "-0.78\n",
      "-0.78\n",
      "-0.78\n",
      "-0.78\n",
      "-0.78\n",
      "-0.78\n",
      "-0.99\n",
      "-0.99\n",
      "-0.99\n",
      "-0.99\n",
      "-1.99\n"
     ]
    }
   ],
   "source": [
    "for i in result:\n",
    " print(round(i, 2))"
   ]
  },
  {
   "cell_type": "code",
   "execution_count": 60,
   "id": "ee5cd7a8",
   "metadata": {},
   "outputs": [],
   "source": [
    "orig['cluster_label'] = result"
   ]
  },
  {
   "cell_type": "code",
   "execution_count": 61,
   "id": "6ef2fd92",
   "metadata": {},
   "outputs": [
    {
     "data": {
      "image/png": "[encoded data removed]",
      "text/plain": [
       "<Figure size 1000x600 with 1 Axes>"
      ]
     },
     "metadata": {},
     "output_type": "display_data"
    }
   ],
   "source": [
    "import matplotlib.pyplot as plt\n",
    "\n",
    "# Значения\n",
    "values = result\n",
    "\n",
    "# Построение гистограммы\n",
    "plt.figure(figsize=(10, 6))\n",
    "plt.hist(values, bins=len(set(values)), color='skyblue', edgecolor='black')\n",
    "plt.xlabel('Значение')\n",
    "plt.ylabel('Количество')\n",
    "plt.title('Распределение значений')\n",
    "plt.grid(True)\n",
    "plt.show()\n"
   ]
  },
  {
   "cell_type": "code",
   "execution_count": null,
   "id": "294846ba",
   "metadata": {},
   "outputs": [],
   "source": []
  },
  {
   "cell_type": "code",
   "execution_count": null,
   "id": "16710f17",
   "metadata": {},
   "outputs": [],
   "source": []
  }
 ],
 "metadata": {
  "kernelspec": {
   "display_name": "Python 3 (ipykernel)",
   "language": "python",
   "name": "python3"
  },
  "language_info": {
   "codemirror_mode": {
    "name": "ipython",
    "version": 3
   },
   "file_extension": ".py",
   "mimetype": "text/x-python",
   "name": "python",
   "nbconvert_exporter": "python",
   "pygments_lexer": "ipython3",
   "version": "3.11.5"
  }
 },
 "nbformat": 4,
 "nbformat_minor": 5
}
