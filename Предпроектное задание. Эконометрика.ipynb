{
 "cells": [
  {
   "cell_type": "markdown",
   "id": "6f797a7b",
   "metadata": {},
   "source": [
    "# Отбор факторов в уравнение множественной регрессии "
   ]
  },
  {
   "cell_type": "code",
   "execution_count": 4,
   "id": "5a2fb9e0",
   "metadata": {},
   "outputs": [
    {
     "data": {
      "text/html": [
       "<div>\n",
       "<style scoped>\n",
       "    .dataframe tbody tr th:only-of-type {\n",
       "        vertical-align: middle;\n",
       "    }\n",
       "\n",
       "    .dataframe tbody tr th {\n",
       "        vertical-align: top;\n",
       "    }\n",
       "\n",
       "    .dataframe thead th {\n",
       "        text-align: right;\n",
       "    }\n",
       "</style>\n",
       "<table border=\"1\" class=\"dataframe\">\n",
       "  <thead>\n",
       "    <tr style=\"text-align: right;\">\n",
       "      <th></th>\n",
       "      <th>Country</th>\n",
       "      <th>GDP Year-over-Year</th>\n",
       "      <th>GDP Quarter-over-Quarterr</th>\n",
       "      <th>Interest Rate</th>\n",
       "      <th>Inflation Rate</th>\n",
       "      <th>Jobless Rate</th>\n",
       "      <th>Gov, Budget</th>\n",
       "      <th>Debt/GDP</th>\n",
       "      <th>Current Account</th>\n",
       "      <th>GDP/P</th>\n",
       "    </tr>\n",
       "  </thead>\n",
       "  <tbody>\n",
       "    <tr>\n",
       "      <th>0</th>\n",
       "      <td>Euro Area</td>\n",
       "      <td>4.1</td>\n",
       "      <td>0.8</td>\n",
       "      <td>1.25</td>\n",
       "      <td>10.0</td>\n",
       "      <td>6.6</td>\n",
       "      <td>-5.1</td>\n",
       "      <td>95.6</td>\n",
       "      <td>2.5</td>\n",
       "      <td>42.307917</td>\n",
       "    </tr>\n",
       "    <tr>\n",
       "      <th>1</th>\n",
       "      <td>Germany</td>\n",
       "      <td>1.7</td>\n",
       "      <td>0.1</td>\n",
       "      <td>1.25</td>\n",
       "      <td>10.0</td>\n",
       "      <td>5.5</td>\n",
       "      <td>-3.7</td>\n",
       "      <td>69.3</td>\n",
       "      <td>7.4</td>\n",
       "      <td>50.781626</td>\n",
       "    </tr>\n",
       "    <tr>\n",
       "      <th>2</th>\n",
       "      <td>United Kingdom</td>\n",
       "      <td>4.4</td>\n",
       "      <td>0.2</td>\n",
       "      <td>2.25</td>\n",
       "      <td>9.9</td>\n",
       "      <td>3.5</td>\n",
       "      <td>-6.0</td>\n",
       "      <td>95.9</td>\n",
       "      <td>-2.6</td>\n",
       "      <td>47.193840</td>\n",
       "    </tr>\n",
       "    <tr>\n",
       "      <th>3</th>\n",
       "      <td>France</td>\n",
       "      <td>4.2</td>\n",
       "      <td>0.5</td>\n",
       "      <td>1.25</td>\n",
       "      <td>5.6</td>\n",
       "      <td>7.4</td>\n",
       "      <td>-6.5</td>\n",
       "      <td>112.9</td>\n",
       "      <td>0.4</td>\n",
       "      <td>43.427473</td>\n",
       "    </tr>\n",
       "    <tr>\n",
       "      <th>4</th>\n",
       "      <td>Italy</td>\n",
       "      <td>5.0</td>\n",
       "      <td>1.1</td>\n",
       "      <td>1.25</td>\n",
       "      <td>8.9</td>\n",
       "      <td>7.8</td>\n",
       "      <td>-7.2</td>\n",
       "      <td>150.8</td>\n",
       "      <td>2.5</td>\n",
       "      <td>35.449021</td>\n",
       "    </tr>\n",
       "  </tbody>\n",
       "</table>\n",
       "</div>"
      ],
      "text/plain": [
       "          Country  GDP Year-over-Year  GDP Quarter-over-Quarterr  \\\n",
       "0       Euro Area                 4.1                        0.8   \n",
       "1         Germany                 1.7                        0.1   \n",
       "2  United Kingdom                 4.4                        0.2   \n",
       "3          France                 4.2                        0.5   \n",
       "4           Italy                 5.0                        1.1   \n",
       "\n",
       "   Interest Rate  Inflation Rate  Jobless Rate  Gov, Budget  Debt/GDP  \\\n",
       "0           1.25            10.0           6.6         -5.1      95.6   \n",
       "1           1.25            10.0           5.5         -3.7      69.3   \n",
       "2           2.25             9.9           3.5         -6.0      95.9   \n",
       "3           1.25             5.6           7.4         -6.5     112.9   \n",
       "4           1.25             8.9           7.8         -7.2     150.8   \n",
       "\n",
       "   Current Account      GDP/P  \n",
       "0              2.5  42.307917  \n",
       "1              7.4  50.781626  \n",
       "2             -2.6  47.193840  \n",
       "3              0.4  43.427473  \n",
       "4              2.5  35.449021  "
      ]
     },
     "execution_count": 4,
     "metadata": {},
     "output_type": "execute_result"
    }
   ],
   "source": [
    "#импорт бибилиотеки\n",
    "import pandas as pd\n",
    "\n",
    "#импорт данных\n",
    "df = pd.read_excel('Economy_Indicators.xlsx')\n",
    "\n",
    "#просмотр данных\n",
    "df.head()"
   ]
  },
  {
   "cell_type": "markdown",
   "id": "f4c87514",
   "metadata": {},
   "source": [
    "Определим, что означает каждая строка\n",
    "GDP Quarter-over-Quarter - ВВП по сравнению с предыдущим кварталом\n",
    "Interest Rate - Процентная ставка\n",
    "Inflation Rate - Инфляция\n",
    "Jobless Rate - Уровень безработицы\n",
    "Gov. Budget - Государственный бюджет\n",
    "Debt/GDP - Долг/ВВП\n",
    "Current Account - Текущий счет (сальдо торгового баланса)\n",
    "GDP/P - ВВП на душу населения"
   ]
  },
  {
   "cell_type": "markdown",
   "id": "b9ba3af8",
   "metadata": {},
   "source": [
    "В данном случае выберем GDP/P (ВВП на душу населения) зависимой переменной, так как она лучше всего отражает рост экономики с течением времени. Факторами будут процентная ставка (Interest rate), уровень безработицы (Jobless rate) и уровень инфляции (Inflation rate)"
   ]
  },
  {
   "cell_type": "code",
   "execution_count": 5,
   "id": "92caf40d",
   "metadata": {},
   "outputs": [
    {
     "data": {
      "text/html": [
       "<div>\n",
       "<style scoped>\n",
       "    .dataframe tbody tr th:only-of-type {\n",
       "        vertical-align: middle;\n",
       "    }\n",
       "\n",
       "    .dataframe tbody tr th {\n",
       "        vertical-align: top;\n",
       "    }\n",
       "\n",
       "    .dataframe thead th {\n",
       "        text-align: right;\n",
       "    }\n",
       "</style>\n",
       "<table border=\"1\" class=\"dataframe\">\n",
       "  <thead>\n",
       "    <tr style=\"text-align: right;\">\n",
       "      <th></th>\n",
       "      <th>Country</th>\n",
       "      <th>Interest Rate</th>\n",
       "      <th>Inflation Rate</th>\n",
       "      <th>Jobless Rate</th>\n",
       "      <th>GDP/P</th>\n",
       "    </tr>\n",
       "  </thead>\n",
       "  <tbody>\n",
       "    <tr>\n",
       "      <th>0</th>\n",
       "      <td>Euro Area</td>\n",
       "      <td>1.25</td>\n",
       "      <td>10.0</td>\n",
       "      <td>6.6</td>\n",
       "      <td>42.307917</td>\n",
       "    </tr>\n",
       "    <tr>\n",
       "      <th>1</th>\n",
       "      <td>Germany</td>\n",
       "      <td>1.25</td>\n",
       "      <td>10.0</td>\n",
       "      <td>5.5</td>\n",
       "      <td>50.781626</td>\n",
       "    </tr>\n",
       "    <tr>\n",
       "      <th>2</th>\n",
       "      <td>United Kingdom</td>\n",
       "      <td>2.25</td>\n",
       "      <td>9.9</td>\n",
       "      <td>3.5</td>\n",
       "      <td>47.193840</td>\n",
       "    </tr>\n",
       "    <tr>\n",
       "      <th>3</th>\n",
       "      <td>France</td>\n",
       "      <td>1.25</td>\n",
       "      <td>5.6</td>\n",
       "      <td>7.4</td>\n",
       "      <td>43.427473</td>\n",
       "    </tr>\n",
       "    <tr>\n",
       "      <th>4</th>\n",
       "      <td>Italy</td>\n",
       "      <td>1.25</td>\n",
       "      <td>8.9</td>\n",
       "      <td>7.8</td>\n",
       "      <td>35.449021</td>\n",
       "    </tr>\n",
       "  </tbody>\n",
       "</table>\n",
       "</div>"
      ],
      "text/plain": [
       "          Country  Interest Rate  Inflation Rate  Jobless Rate      GDP/P\n",
       "0       Euro Area           1.25            10.0           6.6  42.307917\n",
       "1         Germany           1.25            10.0           5.5  50.781626\n",
       "2  United Kingdom           2.25             9.9           3.5  47.193840\n",
       "3          France           1.25             5.6           7.4  43.427473\n",
       "4           Italy           1.25             8.9           7.8  35.449021"
      ]
     },
     "execution_count": 5,
     "metadata": {},
     "output_type": "execute_result"
    }
   ],
   "source": [
    "#удалим ненужные столбцы\n",
    "df = df.drop(['GDP Year-over-Year', 'GDP Quarter-over-Quarterr', 'Gov, Budget', 'Debt/GDP', 'Current Account'], axis=1)\n",
    "df.head()"
   ]
  },
  {
   "cell_type": "markdown",
   "id": "6b170fda",
   "metadata": {},
   "source": [
    "# Оценка параметров уравнения множественной регрессии"
   ]
  },
  {
   "cell_type": "code",
   "execution_count": 6,
   "id": "c4e366ee",
   "metadata": {},
   "outputs": [
    {
     "name": "stdout",
     "output_type": "stream",
     "text": [
      "                            OLS Regression Results                            \n",
      "==============================================================================\n",
      "Dep. Variable:                  GDP/P   R-squared:                       0.335\n",
      "Model:                            OLS   Adj. R-squared:                  0.281\n",
      "Method:                 Least Squares   F-statistic:                     6.208\n",
      "Date:                Mon, 06 May 2024   Prob (F-statistic):            0.00159\n",
      "Time:                        23:58:48   Log-Likelihood:                -188.55\n",
      "No. Observations:                  41   AIC:                             385.1\n",
      "Df Residuals:                      37   BIC:                             391.9\n",
      "Df Model:                           3                                         \n",
      "Covariance Type:            nonrobust                                         \n",
      "==================================================================================\n",
      "                     coef    std err          t      P>|t|      [0.025      0.975]\n",
      "----------------------------------------------------------------------------------\n",
      "const             65.0125      8.116      8.010      0.000      48.567      81.458\n",
      "Interest Rate     -1.6646      0.856     -1.944      0.060      -3.399       0.070\n",
      "Inflation Rate    -0.4978      0.375     -1.327      0.192      -1.258       0.262\n",
      "Jobless Rate      -2.1494      0.853     -2.519      0.016      -3.878      -0.421\n",
      "==============================================================================\n",
      "Omnibus:                       19.286   Durbin-Watson:                   1.840\n",
      "Prob(Omnibus):                  0.000   Jarque-Bera (JB):               26.691\n",
      "Skew:                           1.432   Prob(JB):                     1.60e-06\n",
      "Kurtosis:                       5.725   Cond. No.                         43.2\n",
      "==============================================================================\n",
      "\n",
      "Notes:\n",
      "[1] Standard Errors assume that the covariance matrix of the errors is correctly specified.\n"
     ]
    }
   ],
   "source": [
    "#импортируем нужную библиотеку\n",
    "import statsmodels.api as sm\n",
    "#зависимая переменная\n",
    "dependent_variable = 'GDP/P'\n",
    "#факторы\n",
    "independent_variables = ['Interest Rate', 'Inflation Rate', 'Jobless Rate']\n",
    "\n",
    "#добавим константы к факторам\n",
    "X = sm.add_constant(df[independent_variables])\n",
    "\n",
    "#выделим зависимую переменную\n",
    "y = df[dependent_variable]\n",
    "\n",
    "#создадим модель множественной регрессии\n",
    "model = sm.OLS(y, X)\n",
    "\n",
    "#получим результаты оценки модели\n",
    "results = model.fit()\n",
    "\n",
    "#выведем статистики оценки параметров\n",
    "print(results.summary())"
   ]
  },
  {
   "cell_type": "markdown",
   "id": "7a5be401",
   "metadata": {},
   "source": [
    "По полученному регрессионному анализу можем составить множественное уравнение регрессии: \\\n",
    "**y = -1,66x_1 - 0,5x_2 - 2,15x_3 + 65,01**"
   ]
  },
  {
   "cell_type": "markdown",
   "id": "d957cd7a",
   "metadata": {},
   "source": [
    "Таким образом, можем сделать следующие выводы:\n",
    "1) С увеличением процентной ставки на 1 п.п. ВВП на душу населения в среднем уменьшается на 1,66 тыс. долларов при неизменных прочих факторах.\n",
    "2) С увеличением инфляции на 1% ВВП на душу населения в среднем уменьшается на 0,5 тыс. долларов при неизменных прочих факторах.\n",
    "3) С увеличением безработицы на 1% ВВП на душу населения в среднем уменьшается на 2,15 тыс. долларов при неизменных прочих факторах."
   ]
  },
  {
   "cell_type": "markdown",
   "id": "2b6904fd",
   "metadata": {},
   "source": [
    "# Стандартизованные коэффициенты регрессии"
   ]
  },
  {
   "cell_type": "code",
   "execution_count": 7,
   "id": "20707904",
   "metadata": {},
   "outputs": [
    {
     "name": "stdout",
     "output_type": "stream",
     "text": [
      "                                 OLS Regression Results                                \n",
      "=======================================================================================\n",
      "Dep. Variable:                  GDP/P   R-squared (uncentered):                   0.133\n",
      "Model:                            OLS   Adj. R-squared (uncentered):              0.065\n",
      "Method:                 Least Squares   F-statistic:                              1.944\n",
      "Date:                Mon, 06 May 2024   Prob (F-statistic):                       0.139\n",
      "Time:                        23:58:48   Log-Likelihood:                         -212.89\n",
      "No. Observations:                  41   AIC:                                      431.8\n",
      "Df Residuals:                      38   BIC:                                      436.9\n",
      "Df Model:                           3                                                  \n",
      "Covariance Type:            nonrobust                                                  \n",
      "==================================================================================\n",
      "                     coef    std err          t      P>|t|      [0.025      0.975]\n",
      "----------------------------------------------------------------------------------\n",
      "const                   0          0        nan        nan           0           0\n",
      "Interest Rate     -9.0114      8.283     -1.088      0.283     -25.779       7.757\n",
      "Inflation Rate    -6.2022      8.349     -0.743      0.462     -23.104      10.700\n",
      "Jobless Rate     -10.0945      7.160     -1.410      0.167     -24.589       4.400\n",
      "==============================================================================\n",
      "Omnibus:                       19.286   Durbin-Watson:                   0.561\n",
      "Prob(Omnibus):                  0.000   Jarque-Bera (JB):               26.691\n",
      "Skew:                           1.432   Prob(JB):                     1.60e-06\n",
      "Kurtosis:                       5.725   Cond. No.                          inf\n",
      "==============================================================================\n",
      "\n",
      "Notes:\n",
      "[1] R² is computed without centering (uncentered) since the model does not contain a constant.\n",
      "[2] Standard Errors assume that the covariance matrix of the errors is correctly specified.\n",
      "[3] The smallest eigenvalue is      0. This might indicate that there are\n",
      "strong multicollinearity problems or that the design matrix is singular.\n"
     ]
    },
    {
     "name": "stderr",
     "output_type": "stream",
     "text": [
      "C:\\Users\\mrrr_\\anaconda3\\Lib\\site-packages\\statsmodels\\regression\\linear_model.py:1965: RuntimeWarning: divide by zero encountered in scalar divide\n",
      "  return np.sqrt(eigvals[0]/eigvals[-1])\n"
     ]
    }
   ],
   "source": [
    "#импортируем нужную библиотеку\n",
    "from sklearn.preprocessing import StandardScaler\n",
    "\n",
    "#стандартизация факторов\n",
    "scaler = StandardScaler()\n",
    "X_standardized = pd.DataFrame(scaler.fit_transform(X), columns=X.columns)\n",
    "\n",
    "#создадим модель множественной регрессии с стандартизованными данными\n",
    "model = sm.OLS(y, X_standardized)\n",
    "\n",
    "#получим результаты оценки модели\n",
    "results = model.fit()\n",
    "\n",
    "#выведем статистики оценки параметров\n",
    "print(results.summary())"
   ]
  },
  {
   "cell_type": "markdown",
   "id": "c087e49b",
   "metadata": {},
   "source": [
    "Получим стандартизованное уравнение регрессии:\\\n",
    "**t_y = -9,01t_x1 - 6,20t_x2 - 10,09t_x3**"
   ]
  },
  {
   "cell_type": "markdown",
   "id": "17bd90c9",
   "metadata": {},
   "source": [
    "Таким образом, можем сделать следующие выводы:\n",
    "1) С увеличением процентной ставки на 1 СКО ВВП на душу населения в среднем уменьшается на 9,01 тыс. долларов при неизменных прочих факторах.\n",
    "2) С увеличением инфляции на 1 СКО ВВП на душу населения в среднем уменьшается на 6,2 тыс. долларов при неизменных прочих факторах.\n",
    "3) С увеличением безработицы на 1 СКО ВВП на душу населения в среднем уменьшается на 10,09 тыс. долларов при неизменных прочих факторах."
   ]
  },
  {
   "cell_type": "markdown",
   "id": "013cacf3",
   "metadata": {},
   "source": [
    "# Коэффициенты эластичности"
   ]
  },
  {
   "cell_type": "code",
   "execution_count": 8,
   "id": "497a6098",
   "metadata": {},
   "outputs": [
    {
     "name": "stdout",
     "output_type": "stream",
     "text": [
      "const             0.000000\n",
      "Interest Rate    -0.996259\n",
      "Inflation Rate   -2.563893\n",
      "Jobless Rate     -1.884655\n",
      "dtype: float64\n"
     ]
    }
   ],
   "source": [
    "#из модели получим коэффициенты эластичности\n",
    "elasticities = results.params * (X.mean() / y.mean())\n",
    "\n",
    "#выведем коэффициенты эластичности\n",
    "print(elasticities)"
   ]
  },
  {
   "cell_type": "markdown",
   "id": "6b4b0a5a",
   "metadata": {},
   "source": [
    "Таким образом, можем сделать следующие выводы:\n",
    "\n",
    "1) С увеличением процентной ставки на 1% от среднего уровня, ВВП на душу населения в среднем уменьшается на 1% от своего среднего уроня при неизменных прочих факторах.\n",
    "2) С увеличением инфляции на 1% от среднего уровня, ВВП на душу населения в среднем уменьшается на 2,56% от своего среднего уровня при неизменных прочих факторах.\n",
    "3) С увеличением безработицы на 1% от среднего уровня, ВВП на душу населения в среднем уменьшается на 1,88% от своего среднего уроня при неизменных прочих факторах."
   ]
  },
  {
   "cell_type": "markdown",
   "id": "596df18b",
   "metadata": {},
   "source": [
    "# Оценка значимости параметров и уравнения множественной регрессии"
   ]
  },
  {
   "cell_type": "code",
   "execution_count": 9,
   "id": "9c5837ed",
   "metadata": {},
   "outputs": [
    {
     "name": "stdout",
     "output_type": "stream",
     "text": [
      "                                 OLS Regression Results                                \n",
      "=======================================================================================\n",
      "Dep. Variable:                  GDP/P   R-squared (uncentered):                   0.133\n",
      "Model:                            OLS   Adj. R-squared (uncentered):              0.065\n",
      "Method:                 Least Squares   F-statistic:                              1.944\n",
      "Date:                Mon, 06 May 2024   Prob (F-statistic):                       0.139\n",
      "Time:                        23:58:48   Log-Likelihood:                         -212.89\n",
      "No. Observations:                  41   AIC:                                      431.8\n",
      "Df Residuals:                      38   BIC:                                      436.9\n",
      "Df Model:                           3                                                  \n",
      "Covariance Type:            nonrobust                                                  \n",
      "==================================================================================\n",
      "                     coef    std err          t      P>|t|      [0.025      0.975]\n",
      "----------------------------------------------------------------------------------\n",
      "const                   0          0        nan        nan           0           0\n",
      "Interest Rate     -9.0114      8.283     -1.088      0.283     -25.779       7.757\n",
      "Inflation Rate    -6.2022      8.349     -0.743      0.462     -23.104      10.700\n",
      "Jobless Rate     -10.0945      7.160     -1.410      0.167     -24.589       4.400\n",
      "==============================================================================\n",
      "Omnibus:                       19.286   Durbin-Watson:                   0.561\n",
      "Prob(Omnibus):                  0.000   Jarque-Bera (JB):               26.691\n",
      "Skew:                           1.432   Prob(JB):                     1.60e-06\n",
      "Kurtosis:                       5.725   Cond. No.                          inf\n",
      "==============================================================================\n",
      "\n",
      "Notes:\n",
      "[1] R² is computed without centering (uncentered) since the model does not contain a constant.\n",
      "[2] Standard Errors assume that the covariance matrix of the errors is correctly specified.\n",
      "[3] The smallest eigenvalue is      0. This might indicate that there are\n",
      "strong multicollinearity problems or that the design matrix is singular.\n"
     ]
    }
   ],
   "source": [
    "#выведем статистики оценки параметров и уравнения\n",
    "print(results.summary())"
   ]
  },
  {
   "cell_type": "markdown",
   "id": "f3ff96fb",
   "metadata": {},
   "source": [
    "Для оценки значимости уравнения регрессии в целом сравним фактическое и критическое значение F-критерия. Fфакт=1,94, Fкрит определяется как и для парной регрессии. В полученной модели Fкрит=2,85. Таким образом, сравнивая Fфакт и Fкрит приходим к выводу о необходимости принять гипотезу (Н0) и с вероятностью 95% сделать вывод о **статистической незначимости уравнения регрессии**.\\\n",
    "Значимость коэффициентов регрессии полученного уравнения оценим с помощью t-критериев Стьюдента. Если tфакт > tтабл, то коэффициент регрессии является статистически значимым, надежным, на него можно опираться в анализе и прогнозе.\n",
    "tтабл определяется для принятого уровня значимости α=0,05 (так как по условию заданный уровень вероятности составляет 0,95) и числа степеней свободы df=n-m-1=41-3-1=37\\\n",
    "В полученной модели tтабл = 2,02.\\\n",
    "|tb1|<tтабл, (1,088<2.02)\\\n",
    "|tb2|<tтабл (0,74<2.02)\\\n",
    "|tb3|<tтабо (1,41<2.02)\\\n",
    "Таким образом, коэффициенты регрессии **не является статистически значимыми**"
   ]
  },
  {
   "cell_type": "markdown",
   "id": "8998ec56",
   "metadata": {},
   "source": [
    "# Оценка значимости включения переменных в уравнение регрессии"
   ]
  },
  {
   "cell_type": "code",
   "execution_count": 2,
   "id": "c34966c7",
   "metadata": {},
   "outputs": [
    {
     "ename": "NameError",
     "evalue": "name 'sm' is not defined",
     "output_type": "error",
     "traceback": [
      "\u001b[1;31m---------------------------------------------------------------------------\u001b[0m",
      "\u001b[1;31mNameError\u001b[0m                                 Traceback (most recent call last)",
      "Cell \u001b[1;32mIn[2], line 2\u001b[0m\n\u001b[0;32m      1\u001b[0m \u001b[38;5;66;03m#создадим подмодели, исключая каждый из факторов по очереди\u001b[39;00m\n\u001b[1;32m----> 2\u001b[0m reduced_X1 \u001b[38;5;241m=\u001b[39m sm\u001b[38;5;241m.\u001b[39madd_constant(df[[\u001b[38;5;124m'\u001b[39m\u001b[38;5;124mInflation Rate\u001b[39m\u001b[38;5;124m'\u001b[39m, \u001b[38;5;124m'\u001b[39m\u001b[38;5;124mJobless Rate\u001b[39m\u001b[38;5;124m'\u001b[39m]])\n\u001b[0;32m      3\u001b[0m reduced_X2 \u001b[38;5;241m=\u001b[39m sm\u001b[38;5;241m.\u001b[39madd_constant(df[[\u001b[38;5;124m'\u001b[39m\u001b[38;5;124mInterest Rate\u001b[39m\u001b[38;5;124m'\u001b[39m, \u001b[38;5;124m'\u001b[39m\u001b[38;5;124mJobless Rate\u001b[39m\u001b[38;5;124m'\u001b[39m]])\n\u001b[0;32m      4\u001b[0m reduced_X3 \u001b[38;5;241m=\u001b[39m sm\u001b[38;5;241m.\u001b[39madd_constant(df[[\u001b[38;5;124m'\u001b[39m\u001b[38;5;124mInterest Rate\u001b[39m\u001b[38;5;124m'\u001b[39m, \u001b[38;5;124m'\u001b[39m\u001b[38;5;124mInflation Rate\u001b[39m\u001b[38;5;124m'\u001b[39m]])\n",
      "\u001b[1;31mNameError\u001b[0m: name 'sm' is not defined"
     ]
    }
   ],
   "source": [
    "#создадим подмодели, исключая каждый из факторов по очереди\n",
    "reduced_X1 = sm.add_constant(df[['Inflation Rate', 'Jobless Rate']])\n",
    "reduced_X2 = sm.add_constant(df[['Interest Rate', 'Jobless Rate']])\n",
    "reduced_X3 = sm.add_constant(df[['Interest Rate', 'Inflation Rate']])\n",
    "\n",
    "#создадим подмодели\n",
    "reduced_model_X1 = sm.OLS(y, reduced_X1)\n",
    "reduced_model_X2 = sm.OLS(y, reduced_X2)\n",
    "reduced_model_X3 = sm.OLS(y, reduced_X3)\n",
    "\n",
    "#получим результаты оценки каждой подмодели\n",
    "reduced_results_X1 = reduced_model_X1.fit()\n",
    "reduced_results_X2 = reduced_model_X2.fit()\n",
    "reduced_results_X3 = reduced_model_X3.fit()"
   ]
  },
  {
   "cell_type": "code",
   "execution_count": 3,
   "id": "6e8078ba",
   "metadata": {},
   "outputs": [
    {
     "ename": "NameError",
     "evalue": "name 'results' is not defined",
     "output_type": "error",
     "traceback": [
      "\u001b[1;31m---------------------------------------------------------------------------\u001b[0m",
      "\u001b[1;31mNameError\u001b[0m                                 Traceback (most recent call last)",
      "Cell \u001b[1;32mIn[3], line 2\u001b[0m\n\u001b[0;32m      1\u001b[0m \u001b[38;5;66;03m#рассчитаем частные F-критерии\u001b[39;00m\n\u001b[1;32m----> 2\u001b[0m partial_F_X1 \u001b[38;5;241m=\u001b[39m (results\u001b[38;5;241m.\u001b[39mssr \u001b[38;5;241m-\u001b[39m reduced_results_X1\u001b[38;5;241m.\u001b[39mssr) \u001b[38;5;241m/\u001b[39m \u001b[38;5;241m2\u001b[39m \u001b[38;5;241m/\u001b[39m (reduced_results_X1\u001b[38;5;241m.\u001b[39mssr \u001b[38;5;241m/\u001b[39m (\u001b[38;5;28mlen\u001b[39m(df) \u001b[38;5;241m-\u001b[39m \u001b[38;5;241m4\u001b[39m))\n\u001b[0;32m      3\u001b[0m partial_F_X2 \u001b[38;5;241m=\u001b[39m (results\u001b[38;5;241m.\u001b[39mssr \u001b[38;5;241m-\u001b[39m reduced_results_X2\u001b[38;5;241m.\u001b[39mssr) \u001b[38;5;241m/\u001b[39m \u001b[38;5;241m2\u001b[39m \u001b[38;5;241m/\u001b[39m (reduced_results_X2\u001b[38;5;241m.\u001b[39mssr \u001b[38;5;241m/\u001b[39m (\u001b[38;5;28mlen\u001b[39m(df) \u001b[38;5;241m-\u001b[39m \u001b[38;5;241m4\u001b[39m))\n\u001b[0;32m      4\u001b[0m partial_F_X3 \u001b[38;5;241m=\u001b[39m (results\u001b[38;5;241m.\u001b[39mssr \u001b[38;5;241m-\u001b[39m reduced_results_X3\u001b[38;5;241m.\u001b[39mssr) \u001b[38;5;241m/\u001b[39m \u001b[38;5;241m2\u001b[39m \u001b[38;5;241m/\u001b[39m (reduced_results_X3\u001b[38;5;241m.\u001b[39mssr \u001b[38;5;241m/\u001b[39m (\u001b[38;5;28mlen\u001b[39m(df) \u001b[38;5;241m-\u001b[39m \u001b[38;5;241m4\u001b[39m))\n",
      "\u001b[1;31mNameError\u001b[0m: name 'results' is not defined"
     ]
    }
   ],
   "source": [
    "#рассчитаем частные F-критерии\n",
    "partial_F_X1 = (results.ssr - reduced_results_X1.ssr) / 2 / (reduced_results_X1.ssr / (len(df) - 4))\n",
    "partial_F_X2 = (results.ssr - reduced_results_X2.ssr) / 2 / (reduced_results_X2.ssr / (len(df) - 4))\n",
    "partial_F_X3 = (results.ssr - reduced_results_X3.ssr) / 2 / (reduced_results_X3.ssr / (len(df) - 4))\n",
    "\n",
    "print(f\"Частный F-критерий для X1: {partial_F_X1}\")\n",
    "print(f\"Частный F-критерий для X2: {partial_F_X2}\")\n",
    "print(f\"Частный F-критерий для X3: {partial_F_X3}\")"
   ]
  },
  {
   "cell_type": "code",
   "execution_count": null,
   "id": "c25f594d",
   "metadata": {},
   "outputs": [],
   "source": [
    "from scipy.stats import f\n",
    "#рассчитаем критическое f\n",
    "critical_value = f.ppf(1 - 0.05, 3, len(df) - 4)\n",
    "critical_value"
   ]
  },
  {
   "cell_type": "markdown",
   "id": "837f080b",
   "metadata": {},
   "source": [
    "Таким образом, сравнивая частные Fфакт и Fкрит приходим к выводу о необходимости отклонить гипотезу (Н0) и с вероятностью 95% сделать вывод о статистической значимости уравнения регрессии и значения R^2, так как они статистически надежны и сформировались под систематическим действием неслучайных причин."
   ]
  },
  {
   "cell_type": "code",
   "execution_count": 14,
   "id": "84a88f8f",
   "metadata": {},
   "outputs": [
    {
     "name": "stdout",
     "output_type": "stream",
     "text": [
      "Частный t-критерий для X1: 6.045719623412578\n",
      "Частный t-критерий для X2: 6.278220781784259\n",
      "Частный t-критерий для X3: 5.769733939409966\n"
     ]
    }
   ],
   "source": [
    "#выведем частные t-критерии\n",
    "print(f\"Частный t-критерий для X1: {partial_F_X1**0.5}\")\n",
    "print(f\"Частный t-критерий для X2: {partial_F_X2**0.5}\")\n",
    "print(f\"Частный t-критерий для X3: {partial_F_X3**0.5}\")"
   ]
  },
  {
   "cell_type": "code",
   "execution_count": 15,
   "id": "5179a39f",
   "metadata": {},
   "outputs": [
    {
     "data": {
      "text/plain": [
       "2.022690911734728"
      ]
     },
     "execution_count": 15,
     "metadata": {},
     "output_type": "execute_result"
    }
   ],
   "source": [
    "#найдем табличное t\n",
    "from scipy.stats import t\n",
    "t_critical_value = t.ppf(1 - 0.05/2, len(df) - 2)\n",
    "t_critical_value"
   ]
  },
  {
   "cell_type": "markdown",
   "id": "1c3a0d21",
   "metadata": {},
   "source": [
    "Значимость коэффициентов регрессии полученного уравнения можно оценить с помощью частных t-критериев Стьюдента. В полученной модели tтабл = 2,02.\\\n",
    "tb1>tтабл, (6,05>2.02)\\\n",
    "tb2>tтабл (6,28>2.02)\\\n",
    "tb3>tтабл (6,28>2.02)\\\n",
    "Таким образом, коэффициенты регрессии является статистически значимыми при включении в модель."
   ]
  },
  {
   "cell_type": "markdown",
   "id": "b93b1ae1",
   "metadata": {},
   "source": [
    "# Множественный коэффициент корреляции и скорректированный коэффициент детерминации"
   ]
  },
  {
   "cell_type": "code",
   "execution_count": 16,
   "id": "9753f83b",
   "metadata": {},
   "outputs": [
    {
     "name": "stdout",
     "output_type": "stream",
     "text": [
      "Множественный коэффициент корреляции (R): 0.1330625735276486\n",
      "Скорректированный коэффициент детерминации (R^2): 0.03673619280849849\n"
     ]
    }
   ],
   "source": [
    "#рассчитаем множественный коэффициент корреляции\n",
    "multicorr = results.rsquared\n",
    "\n",
    "#рассчитайте скорректированный коэффициент детерминации\n",
    "n = len(y)\n",
    "k = len(independent_variables) + 1  # Количество параметров (включая константу)\n",
    "adj_r2 = 1 - ((1 - multicorr) * (n - 1) / (n - k - 1))\n",
    "\n",
    "# Выведите результаты\n",
    "print(f\"Множественный коэффициент корреляции (R): {multicorr}\")\n",
    "print(f\"Скорректированный коэффициент детерминации (R^2): {adj_r2}\")"
   ]
  },
  {
   "cell_type": "markdown",
   "id": "a1fc106f",
   "metadata": {},
   "source": [
    "Таким образом, множественный коэффициент корреляции R=0,13 говорит нам о слабой прямой связи. И всего 3,7% изменчивости ВВП на душу населения объясняется построенной моделью."
   ]
  },
  {
   "cell_type": "markdown",
   "id": "1784003b",
   "metadata": {},
   "source": [
    "# Показатели частной корреляции"
   ]
  },
  {
   "cell_type": "code",
   "execution_count": 17,
   "id": "4d9b4192",
   "metadata": {},
   "outputs": [
    {
     "name": "stdout",
     "output_type": "stream",
     "text": [
      "Частная корреляция между X1 и Y, учитывая X2 и X3:\n",
      "-0.050792005664470584\n",
      "Частная корреляция между X2 и Y, учитывая X1 и X3:\n",
      "-0.32291614939829405\n",
      "Частная корреляция между X3 и Y, учитывая X1 и X2:\n",
      "-0.3025276817330096\n"
     ]
    }
   ],
   "source": [
    "from scipy.stats import pearsonr\n",
    "#обозначим переменные\n",
    "X1 = 'Interest Rate'\n",
    "X2 = 'Inflation Rate'\n",
    "X3 = 'Jobless Rate'\n",
    "Y = 'GDP/P'\n",
    "\n",
    "#рассчитаем частную корреляцию между X1 и Y, учитывая X2 и X3\n",
    "partial_corr_X1_Y, _ = pearsonr(df[X1] - df[X2] * (df[X1].corr(df[X2])) - df[X3] * (df[X1].corr(df[X3])),\n",
    "                                df[Y] - df[X2] * (df[Y].corr(df[X2])) - df[X3] * (df[Y].corr(df[X3])))\n",
    "\n",
    "#рассчитаем частную корреляцию между X2 и Y, учитывая X1 и X3\n",
    "partial_corr_X2_Y, _ = pearsonr(df[X2] - df[X1] * (df[X2].corr(df[X1])) - df[X3] * (df[X2].corr(df[X3])),\n",
    "                                df[Y] - df[X1] * (df[Y].corr(df[X1])) - df[X3] * (df[Y].corr(df[X3])))\n",
    "\n",
    "#рассчитаем частную корреляцию между X3 и Y, учитывая X1 и X2\n",
    "partial_corr_X3_Y, _ = pearsonr(df[X3] - df[X1] * (df[X3].corr(df[X1])) - df[X2] * (df[X3].corr(df[X2])),\n",
    "                                df[Y] - df[X1] * (df[Y].corr(df[X1])) - df[X2] * (df[Y].corr(df[X2])))\n",
    "\n",
    "# Выведите результаты\n",
    "print(\"Частная корреляция между X1 и Y, учитывая X2 и X3:\")\n",
    "print(partial_corr_X1_Y)\n",
    "\n",
    "print(\"Частная корреляция между X2 и Y, учитывая X1 и X3:\")\n",
    "print(partial_corr_X2_Y)\n",
    "\n",
    "print(\"Частная корреляция между X3 и Y, учитывая X1 и X2:\")\n",
    "print(partial_corr_X3_Y)"
   ]
  },
  {
   "cell_type": "markdown",
   "id": "10de741c",
   "metadata": {},
   "source": [
    "Таким образом, имеем:\n",
    "1) слабую отрицательную (обратную) связь между ВВП на душу населения и процентной ставкой, при исключении других факторов. \n",
    "2) умеренную отрицательную (обратную) связь между ВВП на душу населения и инфляцией, при исключении других факторов. \n",
    "3) умеренную отрицательную (обратную) связь между ВВП на душу населения и безработицей, при исключении других факторов. "
   ]
  },
  {
   "cell_type": "markdown",
   "id": "94ea4686",
   "metadata": {},
   "source": [
    "# Модель с фиктивными переменными"
   ]
  },
  {
   "cell_type": "markdown",
   "id": "96ba97d9",
   "metadata": {},
   "source": [
    "Введем фиктивные переменные по политико-географическому местоположению: страны Евросоюза - 1, другие - 0."
   ]
  },
  {
   "cell_type": "code",
   "execution_count": 18,
   "id": "25671dc5",
   "metadata": {},
   "outputs": [],
   "source": [
    "#создадим список со странами Евросоюза\n",
    "eu = ['Euro Area','Austria', 'France', 'Malta', 'Belgium', 'Germany', 'Netherlands', 'Bulgaria', 'Greece', 'Poland', 'Croatia', 'Hungary', 'Portugal', 'Cyprus', 'Ireland', 'Romania', 'Czech Republic','Italy','Slovakia','Denmark','Latvia','Slovenia','Estonia','Lithuania','Spain','Finland','Luxembourg','Sweden']\n",
    "\n",
    "#создадим новый столбец с фиктивными переменными\n",
    "df['Fict_eu'] = df['Country'].apply(lambda x: 1 if x in eu else 0)"
   ]
  },
  {
   "cell_type": "code",
   "execution_count": 33,
   "id": "6c8c1e57",
   "metadata": {},
   "outputs": [
    {
     "data": {
      "text/html": [
       "<table class=\"simpletable\">\n",
       "<caption>OLS Regression Results</caption>\n",
       "<tr>\n",
       "  <th>Dep. Variable:</th>          <td>GDP/P</td>      <th>  R-squared:         </th> <td>   0.347</td>\n",
       "</tr>\n",
       "<tr>\n",
       "  <th>Model:</th>                   <td>OLS</td>       <th>  Adj. R-squared:    </th> <td>   0.274</td>\n",
       "</tr>\n",
       "<tr>\n",
       "  <th>Method:</th>             <td>Least Squares</td>  <th>  F-statistic:       </th> <td>   4.775</td>\n",
       "</tr>\n",
       "<tr>\n",
       "  <th>Date:</th>             <td>Mon, 27 Nov 2023</td> <th>  Prob (F-statistic):</th>  <td>0.00341</td>\n",
       "</tr>\n",
       "<tr>\n",
       "  <th>Time:</th>                 <td>09:22:06</td>     <th>  Log-Likelihood:    </th> <td> -188.18</td>\n",
       "</tr>\n",
       "<tr>\n",
       "  <th>No. Observations:</th>      <td>    41</td>      <th>  AIC:               </th> <td>   386.4</td>\n",
       "</tr>\n",
       "<tr>\n",
       "  <th>Df Residuals:</th>          <td>    36</td>      <th>  BIC:               </th> <td>   394.9</td>\n",
       "</tr>\n",
       "<tr>\n",
       "  <th>Df Model:</th>              <td>     4</td>      <th>                     </th>     <td> </td>   \n",
       "</tr>\n",
       "<tr>\n",
       "  <th>Covariance Type:</th>      <td>nonrobust</td>    <th>                     </th>     <td> </td>   \n",
       "</tr>\n",
       "</table>\n",
       "<table class=\"simpletable\">\n",
       "<tr>\n",
       "         <td></td>           <th>coef</th>     <th>std err</th>      <th>t</th>      <th>P>|t|</th>  <th>[0.025</th>    <th>0.975]</th>  \n",
       "</tr>\n",
       "<tr>\n",
       "  <th>const</th>          <td>   73.1930</td> <td>   13.017</td> <td>    5.623</td> <td> 0.000</td> <td>   46.793</td> <td>   99.593</td>\n",
       "</tr>\n",
       "<tr>\n",
       "  <th>Interest Rate</th>  <td>   -2.0061</td> <td>    0.959</td> <td>   -2.092</td> <td> 0.044</td> <td>   -3.951</td> <td>   -0.061</td>\n",
       "</tr>\n",
       "<tr>\n",
       "  <th>Inflation Rate</th> <td>   -0.4954</td> <td>    0.377</td> <td>   -1.315</td> <td> 0.197</td> <td>   -1.259</td> <td>    0.269</td>\n",
       "</tr>\n",
       "<tr>\n",
       "  <th>Jobless Rate</th>   <td>   -2.3398</td> <td>    0.889</td> <td>   -2.632</td> <td> 0.012</td> <td>   -4.143</td> <td>   -0.537</td>\n",
       "</tr>\n",
       "<tr>\n",
       "  <th>Fict_eu</th>        <td>   -8.1352</td> <td>   10.090</td> <td>   -0.806</td> <td> 0.425</td> <td>  -28.598</td> <td>   12.328</td>\n",
       "</tr>\n",
       "</table>\n",
       "<table class=\"simpletable\">\n",
       "<tr>\n",
       "  <th>Omnibus:</th>       <td>19.941</td> <th>  Durbin-Watson:     </th> <td>   1.880</td>\n",
       "</tr>\n",
       "<tr>\n",
       "  <th>Prob(Omnibus):</th> <td> 0.000</td> <th>  Jarque-Bera (JB):  </th> <td>  30.277</td>\n",
       "</tr>\n",
       "<tr>\n",
       "  <th>Skew:</th>          <td> 1.400</td> <th>  Prob(JB):          </th> <td>2.66e-07</td>\n",
       "</tr>\n",
       "<tr>\n",
       "  <th>Kurtosis:</th>      <td> 6.144</td> <th>  Cond. No.          </th> <td>    82.5</td>\n",
       "</tr>\n",
       "</table><br/><br/>Notes:<br/>[1] Standard Errors assume that the covariance matrix of the errors is correctly specified."
      ],
      "text/latex": [
       "\\begin{center}\n",
       "\\begin{tabular}{lclc}\n",
       "\\toprule\n",
       "\\textbf{Dep. Variable:}    &      GDP/P       & \\textbf{  R-squared:         } &     0.347   \\\\\n",
       "\\textbf{Model:}            &       OLS        & \\textbf{  Adj. R-squared:    } &     0.274   \\\\\n",
       "\\textbf{Method:}           &  Least Squares   & \\textbf{  F-statistic:       } &     4.775   \\\\\n",
       "\\textbf{Date:}             & Mon, 27 Nov 2023 & \\textbf{  Prob (F-statistic):} &  0.00341    \\\\\n",
       "\\textbf{Time:}             &     09:22:06     & \\textbf{  Log-Likelihood:    } &   -188.18   \\\\\n",
       "\\textbf{No. Observations:} &          41      & \\textbf{  AIC:               } &     386.4   \\\\\n",
       "\\textbf{Df Residuals:}     &          36      & \\textbf{  BIC:               } &     394.9   \\\\\n",
       "\\textbf{Df Model:}         &           4      & \\textbf{                     } &             \\\\\n",
       "\\textbf{Covariance Type:}  &    nonrobust     & \\textbf{                     } &             \\\\\n",
       "\\bottomrule\n",
       "\\end{tabular}\n",
       "\\begin{tabular}{lcccccc}\n",
       "                        & \\textbf{coef} & \\textbf{std err} & \\textbf{t} & \\textbf{P$> |$t$|$} & \\textbf{[0.025} & \\textbf{0.975]}  \\\\\n",
       "\\midrule\n",
       "\\textbf{const}          &      73.1930  &       13.017     &     5.623  &         0.000        &       46.793    &       99.593     \\\\\n",
       "\\textbf{Interest Rate}  &      -2.0061  &        0.959     &    -2.092  &         0.044        &       -3.951    &       -0.061     \\\\\n",
       "\\textbf{Inflation Rate} &      -0.4954  &        0.377     &    -1.315  &         0.197        &       -1.259    &        0.269     \\\\\n",
       "\\textbf{Jobless Rate}   &      -2.3398  &        0.889     &    -2.632  &         0.012        &       -4.143    &       -0.537     \\\\\n",
       "\\textbf{Fict\\_eu}       &      -8.1352  &       10.090     &    -0.806  &         0.425        &      -28.598    &       12.328     \\\\\n",
       "\\bottomrule\n",
       "\\end{tabular}\n",
       "\\begin{tabular}{lclc}\n",
       "\\textbf{Omnibus:}       & 19.941 & \\textbf{  Durbin-Watson:     } &    1.880  \\\\\n",
       "\\textbf{Prob(Omnibus):} &  0.000 & \\textbf{  Jarque-Bera (JB):  } &   30.277  \\\\\n",
       "\\textbf{Skew:}          &  1.400 & \\textbf{  Prob(JB):          } & 2.66e-07  \\\\\n",
       "\\textbf{Kurtosis:}      &  6.144 & \\textbf{  Cond. No.          } &     82.5  \\\\\n",
       "\\bottomrule\n",
       "\\end{tabular}\n",
       "%\\caption{OLS Regression Results}\n",
       "\\end{center}\n",
       "\n",
       "Notes: \\newline\n",
       " [1] Standard Errors assume that the covariance matrix of the errors is correctly specified."
      ],
      "text/plain": [
       "<class 'statsmodels.iolib.summary.Summary'>\n",
       "\"\"\"\n",
       "                            OLS Regression Results                            \n",
       "==============================================================================\n",
       "Dep. Variable:                  GDP/P   R-squared:                       0.347\n",
       "Model:                            OLS   Adj. R-squared:                  0.274\n",
       "Method:                 Least Squares   F-statistic:                     4.775\n",
       "Date:                Mon, 27 Nov 2023   Prob (F-statistic):            0.00341\n",
       "Time:                        09:22:06   Log-Likelihood:                -188.18\n",
       "No. Observations:                  41   AIC:                             386.4\n",
       "Df Residuals:                      36   BIC:                             394.9\n",
       "Df Model:                           4                                         \n",
       "Covariance Type:            nonrobust                                         \n",
       "==================================================================================\n",
       "                     coef    std err          t      P>|t|      [0.025      0.975]\n",
       "----------------------------------------------------------------------------------\n",
       "const             73.1930     13.017      5.623      0.000      46.793      99.593\n",
       "Interest Rate     -2.0061      0.959     -2.092      0.044      -3.951      -0.061\n",
       "Inflation Rate    -0.4954      0.377     -1.315      0.197      -1.259       0.269\n",
       "Jobless Rate      -2.3398      0.889     -2.632      0.012      -4.143      -0.537\n",
       "Fict_eu           -8.1352     10.090     -0.806      0.425     -28.598      12.328\n",
       "==============================================================================\n",
       "Omnibus:                       19.941   Durbin-Watson:                   1.880\n",
       "Prob(Omnibus):                  0.000   Jarque-Bera (JB):               30.277\n",
       "Skew:                           1.400   Prob(JB):                     2.66e-07\n",
       "Kurtosis:                       6.144   Cond. No.                         82.5\n",
       "==============================================================================\n",
       "\n",
       "Notes:\n",
       "[1] Standard Errors assume that the covariance matrix of the errors is correctly specified.\n",
       "\"\"\""
      ]
     },
     "execution_count": 33,
     "metadata": {},
     "output_type": "execute_result"
    }
   ],
   "source": [
    "#построим модель\n",
    "#зависимая переменная\n",
    "dependent_variable_f = 'GDP/P'\n",
    "#факторы\n",
    "independent_variables_f = ['Interest Rate', 'Inflation Rate', 'Jobless Rate', 'Fict_eu']\n",
    "\n",
    "#добавим константы к факторам\n",
    "X_f = sm.add_constant(df[independent_variables_f])\n",
    "\n",
    "#выделим зависимую переменную\n",
    "y_f = df[dependent_variable_f]\n",
    "\n",
    "#создадим модель множественной регрессии\n",
    "model_f = sm.OLS(y_f, X_f)\n",
    "\n",
    "#получим результаты оценки модели\n",
    "results_f = model_f.fit()\n",
    "\n",
    "#выведем статистики оценки параметров\n",
    "results_f.summary()"
   ]
  },
  {
   "cell_type": "markdown",
   "id": "910e765b",
   "metadata": {},
   "source": [
    "По полученному регрессионному анализу можем составить множественное уравнение регрессии: \\\n",
    "**y = -2,01x_1 - 0,5x_2 - 2,34x_3 - 8,14x_4 + 73,19**"
   ]
  },
  {
   "cell_type": "markdown",
   "id": "11f39aed",
   "metadata": {},
   "source": [
    "# Исследование остатков на гетероскедастичность"
   ]
  },
  {
   "cell_type": "markdown",
   "id": "71c11cd4",
   "metadata": {},
   "source": [
    "## Без фиктивной переменной"
   ]
  },
  {
   "cell_type": "code",
   "execution_count": 20,
   "id": "046a8a06",
   "metadata": {},
   "outputs": [
    {
     "name": "stdout",
     "output_type": "stream",
     "text": [
      "P-value теста Голдфельда-Квандта: 0.008269801073063378\n",
      "Отвергаем гипотезу о гомоскедастичности (принимаем гипотезу о гетероскедастичности).\n"
     ]
    }
   ],
   "source": [
    "from statsmodels.stats.diagnostic import het_goldfeldquandt\n",
    "#тест Голдфельда-Квандта на гетероскедастичность\n",
    "_, p_value, _ = het_goldfeldquandt(results.resid, X)\n",
    "\n",
    "#результаты\n",
    "print(f\"P-value теста Голдфельда-Квандта: {p_value}\")\n",
    "\n",
    "#интерпретация результата\n",
    "if p_value < 0.05:\n",
    "    print(\"Отвергаем гипотезу о гомоскедастичности (принимаем гипотезу о гетероскедастичности).\")\n",
    "else:\n",
    "    print(\"Принимаем гипотезу о гомоскедастичности.\")"
   ]
  },
  {
   "cell_type": "markdown",
   "id": "610ac319",
   "metadata": {},
   "source": [
    "## С фиктивной переменной "
   ]
  },
  {
   "cell_type": "code",
   "execution_count": 21,
   "id": "5a06d823",
   "metadata": {},
   "outputs": [
    {
     "name": "stdout",
     "output_type": "stream",
     "text": [
      "P-value теста Голдфельда-Квандта: 0.007321609883310612\n",
      "Отвергаем гипотезу о гомоскедастичности (принимаем гипотезу о гетероскедастичности).\n"
     ]
    }
   ],
   "source": [
    "#тест Голдфельда-Квандта на гетероскедастичность\n",
    "_, p_value, _ = het_goldfeldquandt(results_f.resid, X_f)\n",
    "\n",
    "#результаты\n",
    "print(f\"P-value теста Голдфельда-Квандта: {p_value}\")\n",
    "\n",
    "#интерпретация результата\n",
    "if p_value < 0.05:\n",
    "    print(\"Отвергаем гипотезу о гомоскедастичности (принимаем гипотезу о гетероскедастичности).\")\n",
    "else:\n",
    "    print(\"Принимаем гипотезу о гомоскедастичности.\")"
   ]
  },
  {
   "cell_type": "markdown",
   "id": "998ca458",
   "metadata": {},
   "source": [
    "Таким образом, и в том и в другом случае, остатки гетероскедастичны."
   ]
  },
  {
   "cell_type": "markdown",
   "id": "b961409c",
   "metadata": {},
   "source": [
    "# Уравнения регрессии "
   ]
  },
  {
   "cell_type": "markdown",
   "id": "a658a80c",
   "metadata": {},
   "source": [
    "## Линейное"
   ]
  },
  {
   "cell_type": "code",
   "execution_count": 188,
   "id": "faf30d36",
   "metadata": {},
   "outputs": [],
   "source": [
    "#создадим списки для сравнения уравнений регрессии\n",
    "rsquared = []\n",
    "fstat = []\n",
    "astat = []"
   ]
  },
  {
   "cell_type": "code",
   "execution_count": 189,
   "id": "c66fcbef",
   "metadata": {},
   "outputs": [],
   "source": [
    "#линейная модель\n",
    "dependent_variable = 'GDP/P'\n",
    "independent_variables = ['Interest Rate', 'Inflation Rate', 'Jobless Rate']\n",
    "X = sm.add_constant(df[independent_variables])\n",
    "y = df[dependent_variable]\n",
    "model_l = sm.OLS(y, X)\n",
    "results_l = model.fit()\n",
    "\n",
    "#добавим данные в список\n",
    "rsquared.append(results_l.rsquared)\n",
    "fstat.append(results_l.fvalue)"
   ]
  },
  {
   "cell_type": "code",
   "execution_count": 190,
   "id": "ec5b1101",
   "metadata": {},
   "outputs": [],
   "source": [
    "#найдем ошибку аппроксимации\n",
    "X = np.array(X).reshape(-1, 4)\n",
    "y = np.array(y)\n",
    "y_pred = results.predict(X)\n",
    "a = abs((y - y_pred) / y).sum() / len(df) *100\n",
    "astat.append(a)"
   ]
  },
  {
   "cell_type": "markdown",
   "id": "a7d1be45",
   "metadata": {},
   "source": [
    "## Гиперболическая"
   ]
  },
  {
   "cell_type": "code",
   "execution_count": 191,
   "id": "4575969d",
   "metadata": {},
   "outputs": [],
   "source": [
    "#удалим строку с нулем, так как она не дает поделить 1/x\n",
    "df = df.loc[df['Interest Rate'] != 0]\n",
    "\n",
    "dependent_variable = 'GDP/P'\n",
    "independent_variables = ['Interest Rate', 'Inflation Rate', 'Jobless Rate']\n",
    "X = sm.add_constant(df[independent_variables])\n",
    "y = df[dependent_variable]\n",
    "\n",
    "X = np.array(X).reshape(-1, 4)\n",
    "y = np.array(y)\n",
    "\n",
    "#построим модель\n",
    "X_hyp = X**-1\n",
    "model_hyp = sm.OLS(y, X_hyp)\n",
    "results_hyp = model_hyp.fit()"
   ]
  },
  {
   "cell_type": "code",
   "execution_count": 192,
   "id": "3b7beebf",
   "metadata": {},
   "outputs": [],
   "source": [
    "#найдем нужные статистики\n",
    "rsquared.append(results_hyp.rsquared)\n",
    "fstat.append(results_hyp.fvalue)\n",
    "\n",
    "#найдем ошибку аппроксимации\n",
    "y_pred = results_hyp.predict(X_hyp)\n",
    "a = abs((y - y_pred) / y).sum() / len(df) *100\n",
    "astat.append(a)"
   ]
  },
  {
   "cell_type": "code",
   "execution_count": 222,
   "id": "55729389",
   "metadata": {},
   "outputs": [
    {
     "data": {
      "text/plain": [
       "array([-0.58215015,  1.24606154,  2.39290378,  1.22702974])"
      ]
     },
     "execution_count": 222,
     "metadata": {},
     "output_type": "execute_result"
    }
   ],
   "source": [
    "results_hyp.tvalues"
   ]
  },
  {
   "cell_type": "markdown",
   "id": "0bd7eda6",
   "metadata": {},
   "source": [
    "Все коэффициенты, кроме b2 незначимы"
   ]
  },
  {
   "cell_type": "markdown",
   "id": "e69b1d8e",
   "metadata": {},
   "source": [
    "## Полулогарифмическая "
   ]
  },
  {
   "cell_type": "code",
   "execution_count": 198,
   "id": "dd816b85",
   "metadata": {},
   "outputs": [],
   "source": [
    "#построим модель\n",
    "X_log = np.log(X)\n",
    "model_log = sm.OLS(y, X_log)\n",
    "results_log = model_log.fit()"
   ]
  },
  {
   "cell_type": "code",
   "execution_count": 199,
   "id": "92129e3f",
   "metadata": {},
   "outputs": [],
   "source": [
    "#найдем нужные статистики\n",
    "rsquared.append(results_log.rsquared)\n",
    "fstat.append(results_log.fvalue)\n",
    "\n",
    "#найдем ошибку аппроксимации\n",
    "y_pred = results_log.predict(X_log)\n",
    "a = abs((y - y_pred) / y).sum() / len(df) *100\n",
    "astat.append(a)"
   ]
  },
  {
   "cell_type": "code",
   "execution_count": 223,
   "id": "63550c3b",
   "metadata": {},
   "outputs": [
    {
     "data": {
      "text/plain": [
       "array([        nan, -3.44070236,  3.19793577, -0.63456635])"
      ]
     },
     "execution_count": 223,
     "metadata": {},
     "output_type": "execute_result"
    }
   ],
   "source": [
    "results_log.tvalues"
   ]
  },
  {
   "cell_type": "markdown",
   "id": "513469f6",
   "metadata": {},
   "source": [
    "Все коэффициенты, кроме b3 значимы"
   ]
  },
  {
   "cell_type": "markdown",
   "id": "a2fad01e",
   "metadata": {},
   "source": [
    "## Степенная "
   ]
  },
  {
   "cell_type": "code",
   "execution_count": 203,
   "id": "dbf06988",
   "metadata": {},
   "outputs": [],
   "source": [
    "#построим модель\n",
    "X_log = np.log(X)\n",
    "y_log = np.log(y)\n",
    "model_log_2 = sm.OLS(y_log, X_log)\n",
    "results_log_2 = model_log_2.fit()"
   ]
  },
  {
   "cell_type": "code",
   "execution_count": 227,
   "id": "a1093001",
   "metadata": {},
   "outputs": [],
   "source": [
    "#найдем нужные статистики\n",
    "rsquared.append(results_log_2.rsquared)\n",
    "fstat.append(results_log_2.fvalue)\n",
    "\n",
    "#найдем ошибку аппроксимации\n",
    "y_pred = results_log_2.predict(X_log)\n",
    "a = abs((y - y_pred) / y).sum() / len(df) *100\n",
    "astat.append(a)"
   ]
  },
  {
   "cell_type": "code",
   "execution_count": 224,
   "id": "e8cb9a39",
   "metadata": {},
   "outputs": [
    {
     "data": {
      "text/plain": [
       "array([        nan, -4.56587606,  5.72018908, -0.09733935])"
      ]
     },
     "execution_count": 224,
     "metadata": {},
     "output_type": "execute_result"
    }
   ],
   "source": [
    "results_log_2.tvalues"
   ]
  },
  {
   "cell_type": "markdown",
   "id": "9bd4cfc7",
   "metadata": {},
   "source": [
    "Все коэффициенты, кроме b3 значимы"
   ]
  },
  {
   "cell_type": "markdown",
   "id": "db492aa0",
   "metadata": {},
   "source": [
    "## Экспоненциальная "
   ]
  },
  {
   "cell_type": "code",
   "execution_count": 208,
   "id": "61b172fa",
   "metadata": {},
   "outputs": [],
   "source": [
    "#построим модель\n",
    "y_log = np.log(y)\n",
    "model_exp = sm.OLS(y_log, X)\n",
    "results_exp = model_exp.fit()"
   ]
  },
  {
   "cell_type": "code",
   "execution_count": 209,
   "id": "c1af2b89",
   "metadata": {},
   "outputs": [],
   "source": [
    "#найдем нужные статистики\n",
    "rsquared.append(results_exp.rsquared)\n",
    "fstat.append(results_exp.fvalue)\n",
    "\n",
    "#найдем ошибку аппроксимации\n",
    "y_pred = results_exp.predict(X)\n",
    "a = abs((y - y_pred) / y).sum() / len(df) *100\n",
    "astat.append(a)"
   ]
  },
  {
   "cell_type": "code",
   "execution_count": 225,
   "id": "75e642c8",
   "metadata": {},
   "outputs": [
    {
     "data": {
      "text/plain": [
       "array([23.67409585, -4.65988681, -0.96885598, -4.37387074])"
      ]
     },
     "execution_count": 225,
     "metadata": {},
     "output_type": "execute_result"
    }
   ],
   "source": [
    "results_exp.tvalues"
   ]
  },
  {
   "cell_type": "markdown",
   "id": "37737e6e",
   "metadata": {},
   "source": [
    "Все коэффициенты, кроме b2 значимы"
   ]
  },
  {
   "cell_type": "code",
   "execution_count": 216,
   "id": "254abcde",
   "metadata": {},
   "outputs": [
    {
     "data": {
      "text/html": [
       "<div>\n",
       "<style scoped>\n",
       "    .dataframe tbody tr th:only-of-type {\n",
       "        vertical-align: middle;\n",
       "    }\n",
       "\n",
       "    .dataframe tbody tr th {\n",
       "        vertical-align: top;\n",
       "    }\n",
       "\n",
       "    .dataframe thead th {\n",
       "        text-align: right;\n",
       "    }\n",
       "</style>\n",
       "<table border=\"1\" class=\"dataframe\">\n",
       "  <thead>\n",
       "    <tr style=\"text-align: right;\">\n",
       "      <th></th>\n",
       "      <th>Уравнение</th>\n",
       "      <th>R-квадрат</th>\n",
       "      <th>F-статистика</th>\n",
       "      <th>Ошибка А, %</th>\n",
       "    </tr>\n",
       "  </thead>\n",
       "  <tbody>\n",
       "    <tr>\n",
       "      <th>0</th>\n",
       "      <td>Линейное</td>\n",
       "      <td>0.334836</td>\n",
       "      <td>6.208447</td>\n",
       "      <td>92.999220</td>\n",
       "    </tr>\n",
       "    <tr>\n",
       "      <th>1</th>\n",
       "      <td>Гиперболическое</td>\n",
       "      <td>0.448466</td>\n",
       "      <td>9.757509</td>\n",
       "      <td>70.759923</td>\n",
       "    </tr>\n",
       "    <tr>\n",
       "      <th>2</th>\n",
       "      <td>Полулогарифмическое</td>\n",
       "      <td>0.598166</td>\n",
       "      <td>18.359249</td>\n",
       "      <td>83.378114</td>\n",
       "    </tr>\n",
       "    <tr>\n",
       "      <th>3</th>\n",
       "      <td>Степенное</td>\n",
       "      <td>0.894731</td>\n",
       "      <td>104.827120</td>\n",
       "      <td>83.942133</td>\n",
       "    </tr>\n",
       "    <tr>\n",
       "      <th>4</th>\n",
       "      <td>Экспоненциальное</td>\n",
       "      <td>0.616060</td>\n",
       "      <td>19.254868</td>\n",
       "      <td>84.824034</td>\n",
       "    </tr>\n",
       "  </tbody>\n",
       "</table>\n",
       "</div>"
      ],
      "text/plain": [
       "             Уравнение  R-квадрат  F-статистика  Ошибка А, %\n",
       "0             Линейное   0.334836      6.208447    92.999220\n",
       "1      Гиперболическое   0.448466      9.757509    70.759923\n",
       "2  Полулогарифмическое   0.598166     18.359249    83.378114\n",
       "3            Степенное   0.894731    104.827120    83.942133\n",
       "4     Экспоненциальное   0.616060     19.254868    84.824034"
      ]
     },
     "execution_count": 216,
     "metadata": {},
     "output_type": "execute_result"
    }
   ],
   "source": [
    "comp = pd.DataFrame({'Уравнение': ['Линейное', 'Гиперболическое', 'Полулогарифмическое', 'Степенное', 'Экспоненциальное'], 'R-квадрат': rsquared, 'F-статистика': fstat, 'Ошибка А, %': astat})\n",
    "comp"
   ]
  },
  {
   "cell_type": "markdown",
   "id": "a22c6250",
   "metadata": {},
   "source": [
    "Видим, что по следующим статистикам лучшие уравнения регрессии:\n",
    "1) R-квадрат: степенное\n",
    "2) F-статистика: степенное\n",
    "3) Ошибка А: гиперболическое\n",
    "Также, коэффициенты значимы в степенном и экспоненциальном уравнении. Из всех приведенных фактов делаем вывод, что степенное уравнение регрессии самое лучшее."
   ]
  },
  {
   "cell_type": "markdown",
   "id": "87e120fb",
   "metadata": {},
   "source": [
    "## Точечный прогноз "
   ]
  },
  {
   "cell_type": "code",
   "execution_count": 237,
   "id": "7d2bc741",
   "metadata": {},
   "outputs": [
    {
     "data": {
      "text/html": [
       "<table class=\"simpletable\">\n",
       "<caption>OLS Regression Results</caption>\n",
       "<tr>\n",
       "  <th>Dep. Variable:</th>            <td>y</td>        <th>  R-squared (uncentered):</th>      <td>   0.895</td>\n",
       "</tr>\n",
       "<tr>\n",
       "  <th>Model:</th>                   <td>OLS</td>       <th>  Adj. R-squared (uncentered):</th> <td>   0.886</td>\n",
       "</tr>\n",
       "<tr>\n",
       "  <th>Method:</th>             <td>Least Squares</td>  <th>  F-statistic:       </th>          <td>   104.8</td>\n",
       "</tr>\n",
       "<tr>\n",
       "  <th>Date:</th>             <td>Mon, 27 Nov 2023</td> <th>  Prob (F-statistic):</th>          <td>3.84e-18</td>\n",
       "</tr>\n",
       "<tr>\n",
       "  <th>Time:</th>                 <td>12:02:39</td>     <th>  Log-Likelihood:    </th>          <td> -60.513</td>\n",
       "</tr>\n",
       "<tr>\n",
       "  <th>No. Observations:</th>      <td>    40</td>      <th>  AIC:               </th>          <td>   127.0</td>\n",
       "</tr>\n",
       "<tr>\n",
       "  <th>Df Residuals:</th>          <td>    37</td>      <th>  BIC:               </th>          <td>   132.1</td>\n",
       "</tr>\n",
       "<tr>\n",
       "  <th>Df Model:</th>              <td>     3</td>      <th>                     </th>              <td> </td>   \n",
       "</tr>\n",
       "<tr>\n",
       "  <th>Covariance Type:</th>      <td>nonrobust</td>    <th>                     </th>              <td> </td>   \n",
       "</tr>\n",
       "</table>\n",
       "<table class=\"simpletable\">\n",
       "<tr>\n",
       "    <td></td>       <th>coef</th>     <th>std err</th>      <th>t</th>      <th>P>|t|</th>  <th>[0.025</th>    <th>0.975]</th>  \n",
       "</tr>\n",
       "<tr>\n",
       "  <th>const</th> <td>         0</td> <td>        0</td> <td>      nan</td> <td>   nan</td> <td>        0</td> <td>        0</td>\n",
       "</tr>\n",
       "<tr>\n",
       "  <th>x1</th>    <td>   -1.0555</td> <td>    0.231</td> <td>   -4.566</td> <td> 0.000</td> <td>   -1.524</td> <td>   -0.587</td>\n",
       "</tr>\n",
       "<tr>\n",
       "  <th>x2</th>    <td>    1.6120</td> <td>    0.282</td> <td>    5.720</td> <td> 0.000</td> <td>    1.041</td> <td>    2.183</td>\n",
       "</tr>\n",
       "<tr>\n",
       "  <th>x3</th>    <td>   -0.0327</td> <td>    0.336</td> <td>   -0.097</td> <td> 0.923</td> <td>   -0.714</td> <td>    0.648</td>\n",
       "</tr>\n",
       "</table>\n",
       "<table class=\"simpletable\">\n",
       "<tr>\n",
       "  <th>Omnibus:</th>       <td> 0.016</td> <th>  Durbin-Watson:     </th> <td>   1.791</td>\n",
       "</tr>\n",
       "<tr>\n",
       "  <th>Prob(Omnibus):</th> <td> 0.992</td> <th>  Jarque-Bera (JB):  </th> <td>   0.073</td>\n",
       "</tr>\n",
       "<tr>\n",
       "  <th>Skew:</th>          <td>-0.014</td> <th>  Prob(JB):          </th> <td>   0.964</td>\n",
       "</tr>\n",
       "<tr>\n",
       "  <th>Kurtosis:</th>      <td> 2.793</td> <th>  Cond. No.          </th> <td>     inf</td>\n",
       "</tr>\n",
       "</table><br/><br/>Notes:<br/>[1] R² is computed without centering (uncentered) since the model does not contain a constant.<br/>[2] Standard Errors assume that the covariance matrix of the errors is correctly specified.<br/>[3] The smallest eigenvalue is      0. This might indicate that there are<br/>strong multicollinearity problems or that the design matrix is singular."
      ],
      "text/latex": [
       "\\begin{center}\n",
       "\\begin{tabular}{lclc}\n",
       "\\toprule\n",
       "\\textbf{Dep. Variable:}    &        y         & \\textbf{  R-squared (uncentered):}      &     0.895   \\\\\n",
       "\\textbf{Model:}            &       OLS        & \\textbf{  Adj. R-squared (uncentered):} &     0.886   \\\\\n",
       "\\textbf{Method:}           &  Least Squares   & \\textbf{  F-statistic:       }          &     104.8   \\\\\n",
       "\\textbf{Date:}             & Mon, 27 Nov 2023 & \\textbf{  Prob (F-statistic):}          &  3.84e-18   \\\\\n",
       "\\textbf{Time:}             &     12:02:39     & \\textbf{  Log-Likelihood:    }          &   -60.513   \\\\\n",
       "\\textbf{No. Observations:} &          40      & \\textbf{  AIC:               }          &     127.0   \\\\\n",
       "\\textbf{Df Residuals:}     &          37      & \\textbf{  BIC:               }          &     132.1   \\\\\n",
       "\\textbf{Df Model:}         &           3      & \\textbf{                     }          &             \\\\\n",
       "\\textbf{Covariance Type:}  &    nonrobust     & \\textbf{                     }          &             \\\\\n",
       "\\bottomrule\n",
       "\\end{tabular}\n",
       "\\begin{tabular}{lcccccc}\n",
       "               & \\textbf{coef} & \\textbf{std err} & \\textbf{t} & \\textbf{P$> |$t$|$} & \\textbf{[0.025} & \\textbf{0.975]}  \\\\\n",
       "\\midrule\n",
       "\\textbf{const} &            0  &            0     &       nan  &           nan        &            0    &            0     \\\\\n",
       "\\textbf{x1}    &      -1.0555  &        0.231     &    -4.566  &         0.000        &       -1.524    &       -0.587     \\\\\n",
       "\\textbf{x2}    &       1.6120  &        0.282     &     5.720  &         0.000        &        1.041    &        2.183     \\\\\n",
       "\\textbf{x3}    &      -0.0327  &        0.336     &    -0.097  &         0.923        &       -0.714    &        0.648     \\\\\n",
       "\\bottomrule\n",
       "\\end{tabular}\n",
       "\\begin{tabular}{lclc}\n",
       "\\textbf{Omnibus:}       &  0.016 & \\textbf{  Durbin-Watson:     } &    1.791  \\\\\n",
       "\\textbf{Prob(Omnibus):} &  0.992 & \\textbf{  Jarque-Bera (JB):  } &    0.073  \\\\\n",
       "\\textbf{Skew:}          & -0.014 & \\textbf{  Prob(JB):          } &    0.964  \\\\\n",
       "\\textbf{Kurtosis:}      &  2.793 & \\textbf{  Cond. No.          } &      inf  \\\\\n",
       "\\bottomrule\n",
       "\\end{tabular}\n",
       "%\\caption{OLS Regression Results}\n",
       "\\end{center}\n",
       "\n",
       "Notes: \\newline\n",
       " [1] R² is computed without centering (uncentered) since the model does not contain a constant. \\newline\n",
       " [2] Standard Errors assume that the covariance matrix of the errors is correctly specified. \\newline\n",
       " [3] The smallest eigenvalue is      0. This might indicate that there are \\newline\n",
       " strong multicollinearity problems or that the design matrix is singular."
      ],
      "text/plain": [
       "<class 'statsmodels.iolib.summary.Summary'>\n",
       "\"\"\"\n",
       "                                 OLS Regression Results                                \n",
       "=======================================================================================\n",
       "Dep. Variable:                      y   R-squared (uncentered):                   0.895\n",
       "Model:                            OLS   Adj. R-squared (uncentered):              0.886\n",
       "Method:                 Least Squares   F-statistic:                              104.8\n",
       "Date:                Mon, 27 Nov 2023   Prob (F-statistic):                    3.84e-18\n",
       "Time:                        12:02:39   Log-Likelihood:                         -60.513\n",
       "No. Observations:                  40   AIC:                                      127.0\n",
       "Df Residuals:                      37   BIC:                                      132.1\n",
       "Df Model:                           3                                                  \n",
       "Covariance Type:            nonrobust                                                  \n",
       "==============================================================================\n",
       "                 coef    std err          t      P>|t|      [0.025      0.975]\n",
       "------------------------------------------------------------------------------\n",
       "const               0          0        nan        nan           0           0\n",
       "x1            -1.0555      0.231     -4.566      0.000      -1.524      -0.587\n",
       "x2             1.6120      0.282      5.720      0.000       1.041       2.183\n",
       "x3            -0.0327      0.336     -0.097      0.923      -0.714       0.648\n",
       "==============================================================================\n",
       "Omnibus:                        0.016   Durbin-Watson:                   1.791\n",
       "Prob(Omnibus):                  0.992   Jarque-Bera (JB):                0.073\n",
       "Skew:                          -0.014   Prob(JB):                        0.964\n",
       "Kurtosis:                       2.793   Cond. No.                          inf\n",
       "==============================================================================\n",
       "\n",
       "Notes:\n",
       "[1] R² is computed without centering (uncentered) since the model does not contain a constant.\n",
       "[2] Standard Errors assume that the covariance matrix of the errors is correctly specified.\n",
       "[3] The smallest eigenvalue is      0. This might indicate that there are\n",
       "strong multicollinearity problems or that the design matrix is singular.\n",
       "\"\"\""
      ]
     },
     "execution_count": 237,
     "metadata": {},
     "output_type": "execute_result"
    }
   ],
   "source": [
    "results_log_2.summary()"
   ]
  },
  {
   "cell_type": "markdown",
   "id": "acc952d8",
   "metadata": {},
   "source": [
    "Уравнение регрессии: ln(y) = -1,0555*ln(x_1) + 1,612*ln(x_2) - 0,0327*ln(x_3)\\\n",
    "или **y = x1^-1,0555 * x2^1,612 * x3^-0,0327**"
   ]
  },
  {
   "cell_type": "code",
   "execution_count": 234,
   "id": "9a044d22",
   "metadata": {},
   "outputs": [
    {
     "data": {
      "text/plain": [
       "array([3.41444399, 3.42040936, 2.7986073 , 2.47604816, 3.22112865,\n",
       "       2.04883015, 3.22376168, 4.03145797, 4.43503241, 2.63516566,\n",
       "       2.51913708, 3.02674227, 3.61139807, 3.20397573, 2.21858831,\n",
       "       3.49788919, 4.13388687, 2.97156686, 2.47169788, 2.56437077,\n",
       "       3.30225862, 3.6882402 , 1.6880813 , 2.08982172, 3.96744597,\n",
       "       2.8267184 , 3.01807331, 1.93728846, 4.82371913, 2.7193784 ,\n",
       "       3.41981982, 4.700005  , 4.80962799, 3.18869105, 1.69929032,\n",
       "       3.0757783 , 2.43736766, 2.86639993, 2.41610482, 3.47365944])"
      ]
     },
     "execution_count": 234,
     "metadata": {},
     "output_type": "execute_result"
    }
   ],
   "source": [
    "import matplotlib.pyplot as plt\n",
    "y_pred = results_log_2.predict(X_log)\n",
    "y_pred"
   ]
  }
 ],
 "metadata": {
  "kernelspec": {
   "display_name": "Python 3 (ipykernel)",
   "language": "python",
   "name": "python3"
  },
  "language_info": {
   "codemirror_mode": {
    "name": "ipython",
    "version": 3
   },
   "file_extension": ".py",
   "mimetype": "text/x-python",
   "name": "python",
   "nbconvert_exporter": "python",
   "pygments_lexer": "ipython3",
   "version": "3.11.5"
  }
 },
 "nbformat": 4,
 "nbformat_minor": 5
}
