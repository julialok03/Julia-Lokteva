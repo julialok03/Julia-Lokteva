{
 "cells": [
  {
   "cell_type": "markdown",
   "id": "f6a68eed",
   "metadata": {},
   "source": [
    "**Задание 1**"
   ]
  },
  {
   "cell_type": "code",
   "execution_count": 1,
   "id": "645ef64f",
   "metadata": {},
   "outputs": [],
   "source": [
    "import pandas as pd\n",
    "import numpy as np\n",
    "from sklearn.linear_model import LogisticRegression\n",
    "\n",
    "df = pd.read_excel('orders.xlsx')\n",
    "\n",
    "numerical = [\n",
    "    'версия погрузки',\n",
    "    'Количество вагонов',\n",
    "    'Контрибуция', \n",
    "    'Длительность жизни',\n",
    "    'Время до отправки',\n",
    "    'Количество редакций после отправки',\n",
    "    'Количество отмен', \n",
    "    'Количество переносов',\n",
    "    'Среднее время между редакциями', \n",
    "    'Длительность афтершока']\n",
    "\n",
    "df_rule = df['Дата отправления']>='2023-09-01'\n",
    "X_train = df[~df_rule].drop('Результат', axis = 1)\n",
    "X_train = X_train[numerical]\n",
    "y_train = df['Результат'][~df_rule].map({0: -1, 1: 1})\n",
    "X_test = df[df_rule].drop('Результат', axis = 1)\n",
    "X_test = X_test[numerical]\n",
    "y_test = df['Результат'][df_rule].map({0: -1, 1: 1})"
   ]
  },
  {
   "cell_type": "code",
   "execution_count": 2,
   "id": "bf0fe854",
   "metadata": {},
   "outputs": [],
   "source": [
    "class AdaBoost_custom:\n",
    "    def __init__(self, n_estimators=5, base_function=LogisticRegression()):\n",
    "        self.n_estimators = n_estimators\n",
    "        self.base_estimator = base_function\n",
    "        self.alphas = []\n",
    "        self.models = []\n",
    "\n",
    "    def fit(self, X, y):\n",
    "        l = len(X)\n",
    "        w = np.ones(l) / l\n",
    "        for _ in range(self.n_estimators):\n",
    "            b = self.base_estimator.__class__()  # Создание нового экземпляра классификатора\n",
    "            b.fit(X, y, sample_weight=w)\n",
    "            y_pred = b.predict(X)\n",
    "            P = np.sum(w * (y_pred == y)) / np.sum(w)\n",
    "            alpha = 0.5 * np.log(P / (1 - P))\n",
    "            w *= np.exp(-alpha * y * y_pred)\n",
    "            w /= np.sum(w)\n",
    "            self.models.append(b)\n",
    "            self.alphas.append(alpha)\n",
    "\n",
    "    def predict(self, X):\n",
    "        return np.sign(sum(alpha * model.predict(X) for alpha, model in zip(self.alphas, self.models)))\n",
    "\n",
    "    def fit_predict(self, X, y):\n",
    "        self.fit(X, y)\n",
    "        return self.predict(X)"
   ]
  },
  {
   "cell_type": "code",
   "execution_count": 3,
   "id": "23d466da",
   "metadata": {},
   "outputs": [],
   "source": [
    "import warnings\n",
    "warnings.filterwarnings(\"ignore\")\n",
    "\n",
    "model = AdaBoost_custom(n_estimators=10, base_function=LogisticRegression())\n",
    "y_pred = model.fit_predict(X_train, y_train)"
   ]
  },
  {
   "cell_type": "code",
   "execution_count": 4,
   "id": "ef5e985f",
   "metadata": {},
   "outputs": [
    {
     "data": {
      "text/plain": [
       "array([-1.,  1.,  1., ...,  1., -1.,  1.])"
      ]
     },
     "execution_count": 4,
     "metadata": {},
     "output_type": "execute_result"
    }
   ],
   "source": [
    "y_pred"
   ]
  },
  {
   "cell_type": "markdown",
   "id": "5f5100c8",
   "metadata": {},
   "source": [
    "**Задание 2**"
   ]
  },
  {
   "cell_type": "code",
   "execution_count": 5,
   "id": "a7a46512",
   "metadata": {},
   "outputs": [],
   "source": [
    "from sklearn.ensemble import AdaBoostClassifier, RandomForestClassifier\n",
    "from sklearn.tree import DecisionTreeClassifier\n",
    "from sklearn.model_selection import GridSearchCV\n",
    "\n",
    "classifiers = {\n",
    "    \"LogisticRegression\": {\n",
    "        \"estimator\": [LogisticRegression()],\n",
    "        \"estimator__C\": [0.01, 0.1]\n",
    "    },\n",
    "    \"DecisionTree\": {\n",
    "        \"estimator\": [DecisionTreeClassifier()],\n",
    "        \"estimator__max_depth\": [2, 4, 6]\n",
    "    },\n",
    "    \"RandomForest\": {\n",
    "        \"estimator\": [RandomForestClassifier()],\n",
    "        \"estimator__max_depth\": [2, 4, 6]\n",
    "    }\n",
    "}"
   ]
  },
  {
   "cell_type": "code",
   "execution_count": 6,
   "id": "a553af23",
   "metadata": {},
   "outputs": [],
   "source": [
    "ada_params = {\n",
    "    \"n_estimators\": [10, 50, 100]}"
   ]
  },
  {
   "cell_type": "code",
   "execution_count": 7,
   "id": "dc943d4b",
   "metadata": {},
   "outputs": [],
   "source": [
    "best_classifier = None\n",
    "best_params = None\n",
    "best_score = 0\n",
    "\n",
    "for clf_name, param_grid in classifiers.items():\n",
    "    full_param_grid = {**param_grid, **ada_params}\n",
    "    grid_search = GridSearchCV(AdaBoostClassifier(), full_param_grid, cv=5, scoring=\"accuracy\", n_jobs=-1)\n",
    "    grid_search.fit(X_train, y_train)\n",
    "    \n",
    "    if grid_search.best_score_ > best_score:\n",
    "        best_score = grid_search.best_score_\n",
    "        best_classifier = grid_search.best_estimator_\n",
    "        best_params = grid_search.best_params_"
   ]
  },
  {
   "cell_type": "code",
   "execution_count": 8,
   "id": "02ae5819",
   "metadata": {},
   "outputs": [
    {
     "name": "stdout",
     "output_type": "stream",
     "text": [
      "Классификатор: RandomForestClassifier(max_depth=4)\n",
      "Немногочисленные параметры: {'estimator': RandomForestClassifier(), 'estimator__max_depth': 4, 'n_estimators': 100}\n",
      "Точность: 0.8961541889483066\n"
     ]
    }
   ],
   "source": [
    "print(\"Классификатор:\", best_classifier.estimator)\n",
    "print(\"Немногочисленные параметры:\", best_params)\n",
    "print(\"Точность:\", best_score)"
   ]
  },
  {
   "cell_type": "markdown",
   "id": "199dd7fb",
   "metadata": {},
   "source": [
    "**Задание 3**"
   ]
  },
  {
   "cell_type": "code",
   "execution_count": 9,
   "id": "0a70c484",
   "metadata": {},
   "outputs": [],
   "source": [
    "from sklearn.inspection import permutation_importance"
   ]
  },
  {
   "cell_type": "code",
   "execution_count": 10,
   "id": "d2074251",
   "metadata": {},
   "outputs": [],
   "source": [
    "result = permutation_importance(best_classifier, X_test, y_test, n_repeats=10, random_state=42, scoring=\"accuracy\")"
   ]
  },
  {
   "cell_type": "code",
   "execution_count": 11,
   "id": "a2f283b8",
   "metadata": {},
   "outputs": [
    {
     "data": {
      "text/html": [
       "<div>\n",
       "<style scoped>\n",
       "    .dataframe tbody tr th:only-of-type {\n",
       "        vertical-align: middle;\n",
       "    }\n",
       "\n",
       "    .dataframe tbody tr th {\n",
       "        vertical-align: top;\n",
       "    }\n",
       "\n",
       "    .dataframe thead th {\n",
       "        text-align: right;\n",
       "    }\n",
       "</style>\n",
       "<table border=\"1\" class=\"dataframe\">\n",
       "  <thead>\n",
       "    <tr style=\"text-align: right;\">\n",
       "      <th></th>\n",
       "      <th>Feature</th>\n",
       "      <th>Importance</th>\n",
       "    </tr>\n",
       "  </thead>\n",
       "  <tbody>\n",
       "    <tr>\n",
       "      <th>0</th>\n",
       "      <td>Количество отмен</td>\n",
       "      <td>0.252577</td>\n",
       "    </tr>\n",
       "    <tr>\n",
       "      <th>1</th>\n",
       "      <td>версия погрузки</td>\n",
       "      <td>0.224485</td>\n",
       "    </tr>\n",
       "    <tr>\n",
       "      <th>2</th>\n",
       "      <td>Количество редакций после отправки</td>\n",
       "      <td>0.171649</td>\n",
       "    </tr>\n",
       "    <tr>\n",
       "      <th>3</th>\n",
       "      <td>Длительность афтершока</td>\n",
       "      <td>0.103866</td>\n",
       "    </tr>\n",
       "    <tr>\n",
       "      <th>4</th>\n",
       "      <td>Количество переносов</td>\n",
       "      <td>0.066495</td>\n",
       "    </tr>\n",
       "    <tr>\n",
       "      <th>5</th>\n",
       "      <td>Среднее время между редакциями</td>\n",
       "      <td>0.057216</td>\n",
       "    </tr>\n",
       "    <tr>\n",
       "      <th>6</th>\n",
       "      <td>Длительность жизни</td>\n",
       "      <td>0.027062</td>\n",
       "    </tr>\n",
       "    <tr>\n",
       "      <th>7</th>\n",
       "      <td>Контрибуция</td>\n",
       "      <td>0.017010</td>\n",
       "    </tr>\n",
       "    <tr>\n",
       "      <th>8</th>\n",
       "      <td>Время до отправки</td>\n",
       "      <td>0.010309</td>\n",
       "    </tr>\n",
       "    <tr>\n",
       "      <th>9</th>\n",
       "      <td>Количество вагонов</td>\n",
       "      <td>-0.004124</td>\n",
       "    </tr>\n",
       "  </tbody>\n",
       "</table>\n",
       "</div>"
      ],
      "text/plain": [
       "                              Feature  Importance\n",
       "0                    Количество отмен    0.252577\n",
       "1                     версия погрузки    0.224485\n",
       "2  Количество редакций после отправки    0.171649\n",
       "3              Длительность афтершока    0.103866\n",
       "4                Количество переносов    0.066495\n",
       "5      Среднее время между редакциями    0.057216\n",
       "6                  Длительность жизни    0.027062\n",
       "7                         Контрибуция    0.017010\n",
       "8                   Время до отправки    0.010309\n",
       "9                  Количество вагонов   -0.004124"
      ]
     },
     "execution_count": 11,
     "metadata": {},
     "output_type": "execute_result"
    }
   ],
   "source": [
    "importance_df = pd.DataFrame({\n",
    "    \"Feature\": X_train.columns,\n",
    "    \"Importance\": result.importances_mean\n",
    "})\n",
    "\n",
    "top_10_df = importance_df.sort_values(by=\"Importance\", ascending=False).head(10).reset_index(drop=True)\n",
    "top_10_df"
   ]
  },
  {
   "cell_type": "markdown",
   "id": "52dbba6c",
   "metadata": {},
   "source": [
    "**Выводы**"
   ]
  },
  {
   "cell_type": "markdown",
   "id": "72be8f7f",
   "metadata": {},
   "source": [
    "Лучшим классификатором тут стал случайный лес. Спойлер - если его не брать в гридсерч, то лучше всего DecisionTree. Параметры, которые больше всего влияют на результат - кол-во отмен, версия погрузки и кол-во редакций. Также можно сделать вывод, что мой ноубук очень не любит гридсерч и чуть ли не умирает от него(("
   ]
  },
  {
   "cell_type": "code",
   "execution_count": null,
   "id": "a4cfcbb3",
   "metadata": {},
   "outputs": [],
   "source": []
  }
 ],
 "metadata": {
  "kernelspec": {
   "display_name": "Python 3 (ipykernel)",
   "language": "python",
   "name": "python3"
  },
  "language_info": {
   "codemirror_mode": {
    "name": "ipython",
    "version": 3
   },
   "file_extension": ".py",
   "mimetype": "text/x-python",
   "name": "python",
   "nbconvert_exporter": "python",
   "pygments_lexer": "ipython3",
   "version": "3.11.5"
  }
 },
 "nbformat": 4,
 "nbformat_minor": 5
}
