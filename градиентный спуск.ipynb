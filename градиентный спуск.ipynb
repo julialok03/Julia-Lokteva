{
 "cells": [
  {
   "cell_type": "code",
   "execution_count": 5,
   "id": "c9193c8b",
   "metadata": {},
   "outputs": [],
   "source": [
    "import pandas as pd\n",
    "import numpy as np\n",
    "import seaborn as sns\n",
    "from random import *\n",
    "from sympy import *\n",
    "from sklearn.linear_model import LinearRegression"
   ]
  },
  {
   "cell_type": "code",
   "execution_count": 6,
   "id": "abce3838",
   "metadata": {},
   "outputs": [],
   "source": [
    "#зададим параметры\n",
    "y = np.random.normal(size=30).reshape(30, 1)\n",
    "x = np.ones(30).reshape(30, 1)\n",
    "xx = np.array(range(1, 31)).reshape(30, 1)\n",
    "x = np.concatenate((x, xx), axis=1)"
   ]
  },
  {
   "cell_type": "code",
   "execution_count": 7,
   "id": "e4940c14",
   "metadata": {},
   "outputs": [
    {
     "name": "stdout",
     "output_type": "stream",
     "text": [
      "[-0.28307358] [[0.01034167]]\n"
     ]
    }
   ],
   "source": [
    "#создадим модель\n",
    "m = LinearRegression().fit(xx, y)\n",
    "print(m.intercept_, m.coef_)"
   ]
  },
  {
   "cell_type": "code",
   "execution_count": 9,
   "id": "c3783bf3",
   "metadata": {},
   "outputs": [
    {
     "data": {
      "text/latex": [
       "$\\displaystyle 60.0 w_{0} + 930.0 w_{1} + 7.3666581033077$"
      ],
      "text/plain": [
       "60.0*w0 + 930.0*w1 + 7.3666581033077"
      ]
     },
     "execution_count": 9,
     "metadata": {},
     "output_type": "execute_result"
    }
   ],
   "source": [
    "#зададим функции и производные\n",
    "f, w0, w1 = symbols('f w0 w1')\n",
    "f = sum((y - (w0 + w1 * xx)) ** 2)[0]\n",
    "d_w0 = diff(f, w0)\n",
    "d_w1 = diff(f, w1)\n",
    "d_w0"
   ]
  },
  {
   "cell_type": "code",
   "execution_count": 10,
   "id": "03967713",
   "metadata": {},
   "outputs": [
    {
     "data": {
      "text/latex": [
       "$\\displaystyle 930.0 w_{0} + 18910.0 w_{1} + 67.6973766570846$"
      ],
      "text/plain": [
       "930.0*w0 + 18910.0*w1 + 67.6973766570846"
      ]
     },
     "execution_count": 10,
     "metadata": {},
     "output_type": "execute_result"
    }
   ],
   "source": [
    "d_w1"
   ]
  },
  {
   "cell_type": "code",
   "execution_count": 11,
   "id": "fe2478e9",
   "metadata": {},
   "outputs": [],
   "source": [
    "sol = np.array(solve(d_w0))\n",
    "b = np.array(solve(d_w1.subs(w0, sol[0][w0])))[0]\n",
    "a = np.array(solve(d_w1.subs(w1, b)))[0]"
   ]
  },
  {
   "cell_type": "code",
   "execution_count": null,
   "id": "843a0c11",
   "metadata": {},
   "outputs": [],
   "source": [
    "#реализуем градиентный спуск\n",
    "a_0 = 0\n",
    "b_0 = 0\n",
    "a_1 = 5\n",
    "b_1 = 5\n",
    "lam = 0.1\n",
    "while ((a_0 - a_1) ** 2 + (b_0 - b_1) ** 2) ** 0.5 > 0.0000001:\n",
    "    a_0 = a_1\n",
    "    b_0 = b_1\n",
    "    a_1 = a_0 - lam * d_w0.subs(w0, a_0).subs(w1, b_0)\n",
    "    b_1 = b_0 - lam * d_w1.subs(w1, b_0).subs(w0, a_0)"
   ]
  },
  {
   "cell_type": "code",
   "execution_count": null,
   "id": "4356a59b",
   "metadata": {},
   "outputs": [],
   "source": [
    "#визуализируем модель\n",
    "y_pred = (a_1 + b_1 * xx).reshape(1, 30)[0].astype('float')\n",
    "sns.scatterplot(x=xx.reshape(1, 30)[0], y=y.reshape(1, 30)[0])\n",
    "sns.lineplot(x=xx.reshape(1, 30)[0], y=y_pred, color='r')"
   ]
  },
  {
   "cell_type": "code",
   "execution_count": null,
   "id": "da51cdcf",
   "metadata": {},
   "outputs": [],
   "source": []
  }
 ],
 "metadata": {
  "kernelspec": {
   "display_name": "Python 3 (ipykernel)",
   "language": "python",
   "name": "python3"
  },
  "language_info": {
   "codemirror_mode": {
    "name": "ipython",
    "version": 3
   },
   "file_extension": ".py",
   "mimetype": "text/x-python",
   "name": "python",
   "nbconvert_exporter": "python",
   "pygments_lexer": "ipython3",
   "version": "3.11.5"
  }
 },
 "nbformat": 4,
 "nbformat_minor": 5
}
