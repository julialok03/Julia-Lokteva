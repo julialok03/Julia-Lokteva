{
 "cells": [
  {
   "cell_type": "code",
   "execution_count": 2,
   "metadata": {
    "id": "e2ukNoBwqrWP"
   },
   "outputs": [],
   "source": [
    "import numpy as np"
   ]
  },
  {
   "cell_type": "markdown",
   "metadata": {
    "id": "wdRBbWbkEPMo"
   },
   "source": [
    "### Алгоритм Форда-Фалкерсона"
   ]
  },
  {
   "cell_type": "code",
   "execution_count": 28,
   "metadata": {
    "colab": {
     "base_uri": "https://localhost:8080/"
    },
    "id": "yFEwfbV0W_9w",
    "outputId": "24c6bc90-f194-49e3-d41c-d0bec9746f45"
   },
   "outputs": [],
   "source": [
    "def bfs(graph, source, sink, parent, num_vertices):\n",
    "    visited = [False] * num_vertices\n",
    "    queue = []\n",
    "    queue.append(source)\n",
    "    visited[source] = True\n",
    "\n",
    "    while queue:\n",
    "        u = queue.pop(0)\n",
    "\n",
    "        for v in range(num_vertices):\n",
    "            if not visited[v] and graph[u][v] > 0:\n",
    "                queue.append(v)\n",
    "                visited[v] = True\n",
    "                parent[v] = u\n",
    "\n",
    "                if v == sink:\n",
    "                    return True\n",
    "    return False\n",
    "\n",
    "def ford_fulkerson(graph, source, sink, num_vertices):\n",
    "    parent = [-1] * num_vertices\n",
    "    max_flow = 0\n",
    "    flow = [[0] * num_vertices for _ in range(num_vertices)] \n",
    "    while bfs(graph, source, sink, parent, num_vertices):\n",
    "        path_flow = float('Inf')\n",
    "        s = sink\n",
    "        while s != source:\n",
    "            path_flow = min(path_flow, graph[parent[s]][s])\n",
    "            s = parent[s]\n",
    "        v = sink\n",
    "        while v != source:\n",
    "            u = parent[v]\n",
    "            graph[u][v] -= path_flow\n",
    "            graph[v][u] += path_flow\n",
    "            flow[u][v] += path_flow \n",
    "            v = parent[v]\n",
    "        max_flow += path_flow\n",
    "    return max_flow, flow\n",
    "\n",
    "def write(V):\n",
    "    num_vertices = len(V)  #кол-во вершин\n",
    "\n",
    "    source = 0\n",
    "    sink = num_vertices-1\n",
    "    max_flow, flow_matrix = ford_fulkerson(V, source, sink, num_vertices)\n",
    "    print(\"Максимальный поток:\", max_flow)\n",
    "\n",
    "    for u in range(num_vertices):\n",
    "        for v in range(num_vertices):\n",
    "            if flow_matrix[u][v] > 0:\n",
    "                print(f\"{u+1} -> {v+1}: {flow_matrix[u][v]}\")"
   ]
  },
  {
   "cell_type": "code",
   "execution_count": 30,
   "metadata": {},
   "outputs": [],
   "source": [
    "V = [\n",
    "    [0, 3, 7, 0, 0, 0],\n",
    "    [0, 0, 0, 3, 4 , 0],\n",
    "    [0, 5, 0, 0, 3, 0],\n",
    "    [0, 0, 0, 0, 3, 2],\n",
    "    [0, 0, 0, 0, 0, 6],\n",
    "    [0, 0, 0, 0, 0, 0]\n",
    "]"
   ]
  },
  {
   "cell_type": "code",
   "execution_count": 31,
   "metadata": {},
   "outputs": [
    {
     "name": "stdout",
     "output_type": "stream",
     "text": [
      "Максимальный поток: 8\n",
      "1 -> 2: 3\n",
      "1 -> 3: 5\n",
      "2 -> 4: 2\n",
      "2 -> 5: 3\n",
      "3 -> 2: 2\n",
      "3 -> 5: 3\n",
      "4 -> 6: 2\n",
      "5 -> 6: 6\n"
     ]
    }
   ],
   "source": [
    "write(V)"
   ]
  },
  {
   "cell_type": "code",
   "execution_count": 46,
   "metadata": {},
   "outputs": [
    {
     "name": "stdout",
     "output_type": "stream",
     "text": [
      "Максимальный поток: 11\n",
      "1 -> 2: 6\n",
      "1 -> 3: 5\n",
      "2 -> 4: 4\n",
      "2 -> 5: 2\n",
      "3 -> 5: 5\n",
      "4 -> 6: 4\n",
      "5 -> 7: 7\n",
      "6 -> 8: 7\n",
      "7 -> 6: 3\n",
      "7 -> 8: 4\n"
     ]
    }
   ],
   "source": [
    "V1 = [[0, 6, 6, 0, 0, 0, 0, 0],\n",
    "          [0, 0, 0, 4, 2, 0, 0, 0],\n",
    "          [0, 5, 0, 0, 9, 0, 0, 0],\n",
    "          [0, 0, 0, 0, 0, 4, 2, 0],\n",
    "          [0, 0, 0, 8, 0, 0, 7, 0],\n",
    "          [0, 0, 0, 0, 0, 0, 0, 7],\n",
    "          [0, 0, 0, 0, 0, 11, 0, 4],\n",
    "          [0, 0, 0, 0, 0, 0, 0, 0]\n",
    "              ]\n",
    "write(V1)"
   ]
  },
  {
   "cell_type": "code",
   "execution_count": 78,
   "metadata": {},
   "outputs": [
    {
     "name": "stdout",
     "output_type": "stream",
     "text": [
      "Максимальный поток: 20\n",
      "1 -> 2: 4\n",
      "1 -> 3: 7\n",
      "1 -> 4: 9\n",
      "2 -> 3: 1\n",
      "2 -> 5: 3\n",
      "3 -> 4: 2\n",
      "3 -> 5: 6\n",
      "4 -> 6: 3\n",
      "4 -> 8: 8\n",
      "5 -> 7: 6\n",
      "5 -> 9: 5\n",
      "6 -> 5: 2\n",
      "6 -> 8: 1\n",
      "7 -> 9: 8\n",
      "8 -> 7: 2\n",
      "8 -> 9: 7\n"
     ]
    }
   ],
   "source": [
    "V2 = [\n",
    "    [0,8,7,9,0,0,0,0,0],\n",
    "    [0,0,4,0,3,0,0,0,0],\n",
    "    [0,4,0,3,6,0,0,0,0],\n",
    "    [0,0,4,0,0,5,0,8,0],\n",
    "    [0,0,0,0,0,7,6,0,5],\n",
    "    [0,0,0,0,7,0,0,5,0],\n",
    "    [0,0,0,0,0,0,0,3,8],\n",
    "    [0,0,0,0,0,0,3,0,7],\n",
    "    [0,0,0,0,0,0,0,0,0]\n",
    "]\n",
    "write(V2)"
   ]
  },
  {
   "cell_type": "code",
   "execution_count": 81,
   "metadata": {},
   "outputs": [
    {
     "name": "stdout",
     "output_type": "stream",
     "text": [
      "Максимальный поток: 20\n",
      "0 -> 1: 7\n",
      "0 -> 2: 5\n",
      "0 -> 3: 8\n",
      "1 -> 2: 4\n",
      "1 -> 4: 3\n",
      "2 -> 3: 3\n",
      "2 -> 4: 6\n",
      "3 -> 5: 4\n",
      "3 -> 7: 7\n",
      "4 -> 6: 6\n",
      "4 -> 8: 5\n",
      "5 -> 4: 2\n",
      "5 -> 7: 2\n",
      "7 -> 6: 2\n",
      "7 -> 8: 7\n",
      "6 -> 8: 8\n"
     ]
    }
   ],
   "source": [
    "import networkx as nx\n",
    "import numpy as np\n",
    "\n",
    "V2 = np.array([\n",
    "    [0,8,7,9,0,0,0,0,0],\n",
    "    [0,0,4,0,3,0,0,0,0],\n",
    "    [0,4,0,3,6,0,0,0,0],\n",
    "    [0,0,4,0,0,5,0,8,0],\n",
    "    [0,0,0,0,0,7,6,0,5],\n",
    "    [0,0,0,0,7,0,0,5,0],\n",
    "    [0,0,0,0,0,0,0,3,8],\n",
    "    [0,0,0,0,0,0,3,0,7],\n",
    "    [0,0,0,0,0,0,0,0,0]\n",
    "])\n",
    "\n",
    "G = nx.DiGraph()\n",
    "\n",
    "num_nodes = len(V2)\n",
    "for i in range(num_nodes):\n",
    "    for j in range(num_nodes):\n",
    "        if V2[i, j] > 0:\n",
    "            G.add_edge(i, j, capacity=V2[i, j])\n",
    "\n",
    "flow_value, flow_dict = nx.maximum_flow(G, 0, len(V2)-1)\n",
    "\n",
    "print(\"Максимальный поток:\", flow_value)\n",
    "for u, v_dict in flow_dict.items():\n",
    "    for v, flow in v_dict.items():\n",
    "        if flow > 0:\n",
    "            print(f\"{u} -> {v}: {flow}\")"
   ]
  },
  {
   "cell_type": "code",
   "execution_count": 83,
   "metadata": {},
   "outputs": [
    {
     "data": {
      "image/png": "[encoded data removed]",
      "text/plain": [
       "<Figure size 600x400 with 1 Axes>"
      ]
     },
     "metadata": {},
     "output_type": "display_data"
    }
   ],
   "source": [
    "import networkx as nx\n",
    "import matplotlib.pyplot as plt\n",
    "\n",
    "G = nx.Graph(V2)\n",
    "\n",
    "plt.figure(figsize=(6, 4))\n",
    "nx.draw(G, with_labels=True, node_color='pink', edge_color='gray', node_size=1000, font_size=12)\n",
    "plt.show()"
   ]
  },
  {
   "cell_type": "code",
   "execution_count": null,
   "metadata": {},
   "outputs": [],
   "source": []
  }
 ],
 "metadata": {
  "colab": {
   "provenance": []
  },
  "kernelspec": {
   "display_name": "Python 3 (ipykernel)",
   "language": "python",
   "name": "python3"
  },
  "language_info": {
   "codemirror_mode": {
    "name": "ipython",
    "version": 3
   },
   "file_extension": ".py",
   "mimetype": "text/x-python",
   "name": "python",
   "nbconvert_exporter": "python",
   "pygments_lexer": "ipython3",
   "version": "3.11.5"
  }
 },
 "nbformat": 4,
 "nbformat_minor": 1
}
