{
 "cells": [
  {
   "cell_type": "markdown",
   "id": "9234d03d",
   "metadata": {},
   "source": [
    "# <center> Ансамбли </center>"
   ]
  },
  {
   "cell_type": "code",
   "execution_count": 5,
   "id": "ca175f5a",
   "metadata": {},
   "outputs": [],
   "source": [
    "from sklearn.datasets import make_circles, make_classification, make_moons\n",
    "from sklearn.ensemble import RandomForestClassifier, VotingClassifier, BaggingClassifier\n",
    "from sklearn.tree import DecisionTreeClassifier\n",
    "from sklearn.linear_model import LogisticRegression\n",
    "import numpy as np\n",
    "from plotly.subplots import make_subplots\n",
    "from sklearn.model_selection import train_test_split\n",
    "import pandas as pd\n",
    "from sklearn.pipeline import make_pipeline\n",
    "from sklearn.preprocessing import StandardScaler\n",
    "import plotly.express as px\n",
    "import plotly.graph_objects as go"
   ]
  },
  {
   "cell_type": "code",
   "execution_count": 6,
   "id": "daca4739",
   "metadata": {},
   "outputs": [],
   "source": [
    "X, y = make_classification(\n",
    "    n_features=2, n_redundant=0, n_informative=2, random_state=1, n_clusters_per_class=1\n",
    ")\n",
    "rng = np.random.RandomState(2)\n",
    "X += 2 * rng.uniform(size=X.shape)\n",
    "linearly_separable = (X, y)\n",
    "\n",
    "datasets = [\n",
    "    make_moons(noise=0.3, random_state=0),\n",
    "    make_circles(noise=0.2, factor=0.5, random_state=1),\n",
    "    linearly_separable,\n",
    "]\n",
    "dataset_names = [\"Moons\", \"Circles\", \"Linearly Separable\"]\n",
    "\n",
    "data_moon = datasets[1]\n",
    "\n",
    "X, y = data_moon\n",
    "\n",
    "y = np.array([ -1.0 if i == 0 else float(i) for i in y])"
   ]
  },
  {
   "cell_type": "markdown",
   "id": "40eb8320",
   "metadata": {},
   "source": [
    "## Задание "
   ]
  },
  {
   "cell_type": "markdown",
   "id": "68b04e40",
   "metadata": {},
   "source": [
    "# Задание 1 "
   ]
  },
  {
   "cell_type": "code",
   "execution_count": 7,
   "id": "1e91c6aa-41f9-425a-ba4d-4f816e551ab8",
   "metadata": {},
   "outputs": [],
   "source": [
    "from sklearn.metrics import *\n",
    "from sklearn.tree import DecisionTreeRegressor\n",
    "import numpy as np\n",
    "from sklearn.tree import DecisionTreeRegressor\n",
    "from sklearn.metrics import accuracy_score"
   ]
  },
  {
   "cell_type": "code",
   "execution_count": 15,
   "id": "087a3364",
   "metadata": {},
   "outputs": [],
   "source": [
    "import numpy as np\n",
    "from sklearn.tree import DecisionTreeRegressor\n",
    "from sklearn.metrics import accuracy_score\n",
    "\n",
    "def stochastic_gradient_boosting(X_train, y_train, T, subsample=0.5, learning_rate=0.1):\n",
    "    l = len(y_train)\n",
    "    predictions = np.zeros(l)\n",
    "    models, alphas, accuracies = [], [], []\n",
    "    \n",
    "    for t in range(T):\n",
    "        indices = np.random.choice(l, int(subsample * l), replace=False)  # случайная подвыборка\n",
    "        X_subset, y_subset = X_train[indices], y_train[indices]\n",
    "        \n",
    "        residuals = y_subset - predictions[indices]  # вычисляем антиградиент\n",
    "        model = DecisionTreeRegressor(max_depth=3)\n",
    "        model.fit(X_subset, residuals)\n",
    "        \n",
    "        update = model.predict(X_train)\n",
    "        predictions += learning_rate * update  # обновляем предсказания\n",
    "        \n",
    "        models.append(model)\n",
    "        alphas.append(learning_rate)\n",
    "        accuracies.append(accuracy_score(y_train, np.sign(predictions)))\n",
    "    \n",
    "    return np.sign(predictions), accuracies"
   ]
  },
  {
   "cell_type": "code",
   "execution_count": 16,
   "id": "5922fcd6",
   "metadata": {},
   "outputs": [
    {
     "data": {
      "text/plain": [
       "(array([ 1.,  1., -1.,  1.,  1., -1., -1.,  1.,  1.,  1.,  1., -1.,  1.,\n",
       "         1.,  1., -1., -1., -1.,  1., -1., -1.,  1.,  1.,  1., -1., -1.,\n",
       "         1., -1., -1., -1., -1.,  1.,  1.,  1.,  1., -1., -1.,  1., -1.,\n",
       "        -1.,  1.,  1.,  1., -1.,  1., -1., -1.,  1., -1.,  1., -1.,  1.,\n",
       "        -1., -1.,  1., -1., -1.,  1., -1.,  1., -1.,  1.,  1., -1., -1.,\n",
       "         1., -1.,  1., -1.,  1.,  1., -1.,  1.,  1., -1.,  1., -1.,  1.,\n",
       "         1., -1., -1., -1., -1., -1., -1.,  1., -1., -1.,  1.,  1., -1.,\n",
       "        -1.,  1.,  1., -1.,  1., -1.,  1., -1., -1.]),\n",
       " [0.8,\n",
       "  0.91,\n",
       "  0.9,\n",
       "  0.92,\n",
       "  0.92,\n",
       "  0.91,\n",
       "  0.92,\n",
       "  0.94,\n",
       "  0.93,\n",
       "  0.94,\n",
       "  0.94,\n",
       "  0.94,\n",
       "  0.94,\n",
       "  0.94,\n",
       "  0.94,\n",
       "  0.94,\n",
       "  0.94,\n",
       "  0.94,\n",
       "  0.94,\n",
       "  0.94,\n",
       "  0.93,\n",
       "  0.94,\n",
       "  0.94,\n",
       "  0.94,\n",
       "  0.95,\n",
       "  0.95,\n",
       "  0.95,\n",
       "  0.94,\n",
       "  0.94,\n",
       "  0.94,\n",
       "  0.95,\n",
       "  0.95,\n",
       "  0.95,\n",
       "  0.95,\n",
       "  0.95,\n",
       "  0.96,\n",
       "  0.96,\n",
       "  0.96,\n",
       "  0.96,\n",
       "  0.96,\n",
       "  0.96,\n",
       "  0.97,\n",
       "  0.99,\n",
       "  0.98,\n",
       "  0.99,\n",
       "  0.99,\n",
       "  0.99,\n",
       "  0.99,\n",
       "  0.99,\n",
       "  0.99])"
      ]
     },
     "execution_count": 16,
     "metadata": {},
     "output_type": "execute_result"
    }
   ],
   "source": [
    "stochastic_gradient_boosting(X, y, T=50)"
   ]
  },
  {
   "cell_type": "code",
   "execution_count": 18,
   "id": "244e637f",
   "metadata": {},
   "outputs": [],
   "source": [
    "quality = []\n",
    "for i in range(1, 25):\n",
    "    accuracy = stochastic_gradient_boosting(X, y, T=i)[1]\n",
    "    quality.append(accuracy[-1])"
   ]
  },
  {
   "cell_type": "code",
   "execution_count": 20,
   "id": "17ee1c30",
   "metadata": {},
   "outputs": [
    {
     "data": {
      "image/png": "[encoded data removed]",
      "text/plain": [
       "<Figure size 640x480 with 1 Axes>"
      ]
     },
     "metadata": {},
     "output_type": "display_data"
    }
   ],
   "source": [
    "import matplotlib.pyplot as plt\n",
    "import seaborn as sns\n",
    "sns.lineplot(x=list(range(1, 25)), y=quality)\n",
    "plt.show()"
   ]
  },
  {
   "cell_type": "code",
   "execution_count": null,
   "id": "3b47626d",
   "metadata": {},
   "outputs": [],
   "source": []
  }
 ],
 "metadata": {
  "hide_input": false,
  "kernelspec": {
   "display_name": "Python 3 (ipykernel)",
   "language": "python",
   "name": "python3"
  },
  "language_info": {
   "codemirror_mode": {
    "name": "ipython",
    "version": 3
   },
   "file_extension": ".py",
   "mimetype": "text/x-python",
   "name": "python",
   "nbconvert_exporter": "python",
   "pygments_lexer": "ipython3",
   "version": "3.11.5"
  }
 },
 "nbformat": 4,
 "nbformat_minor": 5
}
