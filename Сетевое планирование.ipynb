{
 "cells": [
  {
   "cell_type": "code",
   "execution_count": 1,
   "id": "23c10f0b",
   "metadata": {},
   "outputs": [],
   "source": [
    "import pandas as pd\n",
    "import networkx as nx"
   ]
  },
  {
   "cell_type": "code",
   "execution_count": 2,
   "id": "849cff09",
   "metadata": {
    "scrolled": true
   },
   "outputs": [
    {
     "data": {
      "text/html": [
       "<div>\n",
       "<style scoped>\n",
       "    .dataframe tbody tr th:only-of-type {\n",
       "        vertical-align: middle;\n",
       "    }\n",
       "\n",
       "    .dataframe tbody tr th {\n",
       "        vertical-align: top;\n",
       "    }\n",
       "\n",
       "    .dataframe thead th {\n",
       "        text-align: right;\n",
       "    }\n",
       "</style>\n",
       "<table border=\"1\" class=\"dataframe\">\n",
       "  <thead>\n",
       "    <tr style=\"text-align: right;\">\n",
       "      <th></th>\n",
       "      <th>Код операции</th>\n",
       "      <th>Содержание операции</th>\n",
       "      <th>Длительность операции</th>\n",
       "      <th>Предшествующая операция</th>\n",
       "    </tr>\n",
       "  </thead>\n",
       "  <tbody>\n",
       "    <tr>\n",
       "      <th>0</th>\n",
       "      <td>A</td>\n",
       "      <td>Согласование плана исследования</td>\n",
       "      <td>3</td>\n",
       "      <td>-</td>\n",
       "    </tr>\n",
       "    <tr>\n",
       "      <th>1</th>\n",
       "      <td>B</td>\n",
       "      <td>Составление расписания фокус-групп</td>\n",
       "      <td>4</td>\n",
       "      <td>A</td>\n",
       "    </tr>\n",
       "    <tr>\n",
       "      <th>2</th>\n",
       "      <td>C</td>\n",
       "      <td>Составление плана полевых исследований</td>\n",
       "      <td>4</td>\n",
       "      <td>A</td>\n",
       "    </tr>\n",
       "    <tr>\n",
       "      <th>3</th>\n",
       "      <td>D</td>\n",
       "      <td>Отбор респондентов для фокус-групп</td>\n",
       "      <td>15</td>\n",
       "      <td>B</td>\n",
       "    </tr>\n",
       "    <tr>\n",
       "      <th>4</th>\n",
       "      <td>E</td>\n",
       "      <td>Организация полевого исследования 1</td>\n",
       "      <td>8</td>\n",
       "      <td>C</td>\n",
       "    </tr>\n",
       "    <tr>\n",
       "      <th>5</th>\n",
       "      <td>F</td>\n",
       "      <td>Организация полевого исследования 2</td>\n",
       "      <td>14</td>\n",
       "      <td>C</td>\n",
       "    </tr>\n",
       "    <tr>\n",
       "      <th>6</th>\n",
       "      <td>G</td>\n",
       "      <td>Проведение фокус-группы 1</td>\n",
       "      <td>3</td>\n",
       "      <td>D</td>\n",
       "    </tr>\n",
       "    <tr>\n",
       "      <th>7</th>\n",
       "      <td>H</td>\n",
       "      <td>Проведение фокус-группы 2</td>\n",
       "      <td>3</td>\n",
       "      <td>D</td>\n",
       "    </tr>\n",
       "    <tr>\n",
       "      <th>8</th>\n",
       "      <td>I</td>\n",
       "      <td>Подготовка данных полевых исследований</td>\n",
       "      <td>5</td>\n",
       "      <td>E,F</td>\n",
       "    </tr>\n",
       "    <tr>\n",
       "      <th>9</th>\n",
       "      <td>K</td>\n",
       "      <td>Анализ данных, итоговый отчет</td>\n",
       "      <td>5</td>\n",
       "      <td>G,H,I</td>\n",
       "    </tr>\n",
       "  </tbody>\n",
       "</table>\n",
       "</div>"
      ],
      "text/plain": [
       "  Код операции                     Содержание операции  Длительность операции  \\\n",
       "0            A         Согласование плана исследования                      3   \n",
       "1            B      Составление расписания фокус-групп                      4   \n",
       "2            C  Составление плана полевых исследований                      4   \n",
       "3            D      Отбор респондентов для фокус-групп                     15   \n",
       "4            E     Организация полевого исследования 1                      8   \n",
       "5            F     Организация полевого исследования 2                     14   \n",
       "6            G               Проведение фокус-группы 1                      3   \n",
       "7            H               Проведение фокус-группы 2                      3   \n",
       "8            I  Подготовка данных полевых исследований                      5   \n",
       "9            K           Анализ данных, итоговый отчет                      5   \n",
       "\n",
       "  Предшествующая операция  \n",
       "0                       -  \n",
       "1                       A  \n",
       "2                       A  \n",
       "3                       B  \n",
       "4                       C  \n",
       "5                       C  \n",
       "6                       D  \n",
       "7                       D  \n",
       "8                     E,F  \n",
       "9                   G,H,I  "
      ]
     },
     "execution_count": 2,
     "metadata": {},
     "output_type": "execute_result"
    }
   ],
   "source": [
    "df = pd.read_excel('Сетевое для питона.xlsx')\n",
    "df"
   ]
  },
  {
   "cell_type": "code",
   "execution_count": 3,
   "id": "adb1e158",
   "metadata": {},
   "outputs": [],
   "source": [
    "G = nx.DiGraph()"
   ]
  },
  {
   "cell_type": "code",
   "execution_count": 4,
   "id": "cf2e1896",
   "metadata": {},
   "outputs": [],
   "source": [
    "for _, row in df.iterrows():\n",
    "    G.add_node(row['Код операции'], duration=row['Длительность операции'])\n",
    "    if row['Предшествующая операция'] != '-':\n",
    "        for pred in row['Предшествующая операция'].split(','):\n",
    "            G.add_edge(pred.strip(), row['Код операции'])"
   ]
  },
  {
   "cell_type": "code",
   "execution_count": 5,
   "id": "f876a7eb",
   "metadata": {},
   "outputs": [],
   "source": [
    "top_order = list(nx.topological_sort(G))\n",
    "df['ES'] = df['EF'] = 0\n",
    "for node in top_order:\n",
    "    idx = df[df['Код операции'] == node].index[0]\n",
    "    df.at[idx, 'ES'] = max([df.at[df[df['Код операции'] == p].index[0], 'EF'] for p in G.predecessors(node)], default=0)\n",
    "    df.at[idx, 'EF'] = df.at[idx, 'ES'] + df.at[idx, 'Длительность операции']"
   ]
  },
  {
   "cell_type": "code",
   "execution_count": 6,
   "id": "fc5f55a5",
   "metadata": {},
   "outputs": [
    {
     "data": {
      "text/plain": [
       "['A', 'B', 'C', 'D', 'E', 'F', 'G', 'H', 'I', 'K']"
      ]
     },
     "execution_count": 6,
     "metadata": {},
     "output_type": "execute_result"
    }
   ],
   "source": [
    "top_order"
   ]
  },
  {
   "cell_type": "code",
   "execution_count": 7,
   "id": "3c13c952",
   "metadata": {},
   "outputs": [],
   "source": [
    "df['LF'] = df['LS'] = df['EF'].max()\n",
    "for node in reversed(top_order):\n",
    "    idx = df[df['Код операции'] == node].index[0]\n",
    "    df.at[idx, 'LF'] = min([df.at[df[df['Код операции'] == s].index[0], 'LS'] for s in G.successors(node)], default=df['EF'].max())\n",
    "    df.at[idx, 'LS'] = df.at[idx, 'LF'] - df.at[idx, 'Длительность операции']"
   ]
  },
  {
   "cell_type": "code",
   "execution_count": 8,
   "id": "3604f399",
   "metadata": {},
   "outputs": [],
   "source": [
    "df['Запас времени'] = df['LF'] - df['EF']\n",
    "critical_path = df[df['Запас времени'] == 0]['Код операции'].tolist()\n",
    "project_duration = df['EF'].max()"
   ]
  },
  {
   "cell_type": "code",
   "execution_count": 9,
   "id": "61b48761",
   "metadata": {},
   "outputs": [
    {
     "data": {
      "text/plain": [
       "31"
      ]
     },
     "execution_count": 9,
     "metadata": {},
     "output_type": "execute_result"
    }
   ],
   "source": [
    "project_duration"
   ]
  },
  {
   "cell_type": "code",
   "execution_count": 10,
   "id": "51669fc2",
   "metadata": {},
   "outputs": [
    {
     "data": {
      "text/plain": [
       "['A', 'C', 'F', 'I', 'K']"
      ]
     },
     "execution_count": 10,
     "metadata": {},
     "output_type": "execute_result"
    }
   ],
   "source": [
    "critical_path"
   ]
  },
  {
   "cell_type": "code",
   "execution_count": 11,
   "id": "98f64fb0",
   "metadata": {},
   "outputs": [
    {
     "data": {
      "text/html": [
       "<div>\n",
       "<style scoped>\n",
       "    .dataframe tbody tr th:only-of-type {\n",
       "        vertical-align: middle;\n",
       "    }\n",
       "\n",
       "    .dataframe tbody tr th {\n",
       "        vertical-align: top;\n",
       "    }\n",
       "\n",
       "    .dataframe thead th {\n",
       "        text-align: right;\n",
       "    }\n",
       "</style>\n",
       "<table border=\"1\" class=\"dataframe\">\n",
       "  <thead>\n",
       "    <tr style=\"text-align: right;\">\n",
       "      <th></th>\n",
       "      <th>Код операции</th>\n",
       "      <th>Содержание операции</th>\n",
       "      <th>Длительность операции</th>\n",
       "      <th>Предшествующая операция</th>\n",
       "      <th>ES</th>\n",
       "      <th>EF</th>\n",
       "      <th>LF</th>\n",
       "      <th>LS</th>\n",
       "      <th>Запас времени</th>\n",
       "    </tr>\n",
       "  </thead>\n",
       "  <tbody>\n",
       "    <tr>\n",
       "      <th>0</th>\n",
       "      <td>A</td>\n",
       "      <td>Согласование плана исследования</td>\n",
       "      <td>3</td>\n",
       "      <td>-</td>\n",
       "      <td>0</td>\n",
       "      <td>3</td>\n",
       "      <td>3</td>\n",
       "      <td>0</td>\n",
       "      <td>0</td>\n",
       "    </tr>\n",
       "    <tr>\n",
       "      <th>1</th>\n",
       "      <td>B</td>\n",
       "      <td>Составление расписания фокус-групп</td>\n",
       "      <td>4</td>\n",
       "      <td>A</td>\n",
       "      <td>3</td>\n",
       "      <td>7</td>\n",
       "      <td>8</td>\n",
       "      <td>4</td>\n",
       "      <td>1</td>\n",
       "    </tr>\n",
       "    <tr>\n",
       "      <th>2</th>\n",
       "      <td>C</td>\n",
       "      <td>Составление плана полевых исследований</td>\n",
       "      <td>4</td>\n",
       "      <td>A</td>\n",
       "      <td>3</td>\n",
       "      <td>7</td>\n",
       "      <td>7</td>\n",
       "      <td>3</td>\n",
       "      <td>0</td>\n",
       "    </tr>\n",
       "    <tr>\n",
       "      <th>3</th>\n",
       "      <td>D</td>\n",
       "      <td>Отбор респондентов для фокус-групп</td>\n",
       "      <td>15</td>\n",
       "      <td>B</td>\n",
       "      <td>7</td>\n",
       "      <td>22</td>\n",
       "      <td>23</td>\n",
       "      <td>8</td>\n",
       "      <td>1</td>\n",
       "    </tr>\n",
       "    <tr>\n",
       "      <th>4</th>\n",
       "      <td>E</td>\n",
       "      <td>Организация полевого исследования 1</td>\n",
       "      <td>8</td>\n",
       "      <td>C</td>\n",
       "      <td>7</td>\n",
       "      <td>15</td>\n",
       "      <td>21</td>\n",
       "      <td>13</td>\n",
       "      <td>6</td>\n",
       "    </tr>\n",
       "    <tr>\n",
       "      <th>5</th>\n",
       "      <td>F</td>\n",
       "      <td>Организация полевого исследования 2</td>\n",
       "      <td>14</td>\n",
       "      <td>C</td>\n",
       "      <td>7</td>\n",
       "      <td>21</td>\n",
       "      <td>21</td>\n",
       "      <td>7</td>\n",
       "      <td>0</td>\n",
       "    </tr>\n",
       "    <tr>\n",
       "      <th>6</th>\n",
       "      <td>G</td>\n",
       "      <td>Проведение фокус-группы 1</td>\n",
       "      <td>3</td>\n",
       "      <td>D</td>\n",
       "      <td>22</td>\n",
       "      <td>25</td>\n",
       "      <td>26</td>\n",
       "      <td>23</td>\n",
       "      <td>1</td>\n",
       "    </tr>\n",
       "    <tr>\n",
       "      <th>7</th>\n",
       "      <td>H</td>\n",
       "      <td>Проведение фокус-группы 2</td>\n",
       "      <td>3</td>\n",
       "      <td>D</td>\n",
       "      <td>22</td>\n",
       "      <td>25</td>\n",
       "      <td>26</td>\n",
       "      <td>23</td>\n",
       "      <td>1</td>\n",
       "    </tr>\n",
       "    <tr>\n",
       "      <th>8</th>\n",
       "      <td>I</td>\n",
       "      <td>Подготовка данных полевых исследований</td>\n",
       "      <td>5</td>\n",
       "      <td>E,F</td>\n",
       "      <td>21</td>\n",
       "      <td>26</td>\n",
       "      <td>26</td>\n",
       "      <td>21</td>\n",
       "      <td>0</td>\n",
       "    </tr>\n",
       "    <tr>\n",
       "      <th>9</th>\n",
       "      <td>K</td>\n",
       "      <td>Анализ данных, итоговый отчет</td>\n",
       "      <td>5</td>\n",
       "      <td>G,H,I</td>\n",
       "      <td>26</td>\n",
       "      <td>31</td>\n",
       "      <td>31</td>\n",
       "      <td>26</td>\n",
       "      <td>0</td>\n",
       "    </tr>\n",
       "  </tbody>\n",
       "</table>\n",
       "</div>"
      ],
      "text/plain": [
       "  Код операции                     Содержание операции  Длительность операции  \\\n",
       "0            A         Согласование плана исследования                      3   \n",
       "1            B      Составление расписания фокус-групп                      4   \n",
       "2            C  Составление плана полевых исследований                      4   \n",
       "3            D      Отбор респондентов для фокус-групп                     15   \n",
       "4            E     Организация полевого исследования 1                      8   \n",
       "5            F     Организация полевого исследования 2                     14   \n",
       "6            G               Проведение фокус-группы 1                      3   \n",
       "7            H               Проведение фокус-группы 2                      3   \n",
       "8            I  Подготовка данных полевых исследований                      5   \n",
       "9            K           Анализ данных, итоговый отчет                      5   \n",
       "\n",
       "  Предшествующая операция  ES  EF  LF  LS  Запас времени  \n",
       "0                       -   0   3   3   0              0  \n",
       "1                       A   3   7   8   4              1  \n",
       "2                       A   3   7   7   3              0  \n",
       "3                       B   7  22  23   8              1  \n",
       "4                       C   7  15  21  13              6  \n",
       "5                       C   7  21  21   7              0  \n",
       "6                       D  22  25  26  23              1  \n",
       "7                       D  22  25  26  23              1  \n",
       "8                     E,F  21  26  26  21              0  \n",
       "9                   G,H,I  26  31  31  26              0  "
      ]
     },
     "execution_count": 11,
     "metadata": {},
     "output_type": "execute_result"
    }
   ],
   "source": [
    "df"
   ]
  },
  {
   "cell_type": "code",
   "execution_count": 12,
   "id": "f3e95b20",
   "metadata": {},
   "outputs": [
    {
     "data": {
      "image/png": "[encoded data removed]",
      "text/plain": [
       "<Figure size 1000x600 with 1 Axes>"
      ]
     },
     "metadata": {},
     "output_type": "display_data"
    }
   ],
   "source": [
    "import matplotlib.pyplot as plt\n",
    "\n",
    "fig, ax = plt.subplots(figsize=(10, 6))\n",
    "for i, row in df.iterrows():\n",
    "    ax.broken_barh([(row['ES'], row['Длительность операции'])], (i - 0.4, 0.8), facecolors='tab:blue' if row['Запас времени'] > 0 else 'tab:red')\n",
    "    ax.text(row['ES'] + row['Длительность операции'] / 2, i, row['Код операции'], ha='center', va='center', color='white')\n",
    "ax.set_yticks(range(len(df)))\n",
    "ax.set_yticklabels(df['Код операции'])\n",
    "ax.set_xlabel(\"Время\")\n",
    "ax.set_title(\"Диаграмма Ганта\")\n",
    "plt.xticks(rotation=45)\n",
    "plt.show()"
   ]
  },
  {
   "cell_type": "code",
   "execution_count": 13,
   "id": "55dfd78e",
   "metadata": {},
   "outputs": [
    {
     "data": {
      "image/png": "[encoded data removed]",
      "text/plain": [
       "<Figure size 800x600 with 1 Axes>"
      ]
     },
     "metadata": {},
     "output_type": "display_data"
    }
   ],
   "source": [
    "plt.figure(figsize=(8, 6))\n",
    "pos = nx.spring_layout(G)\n",
    "nx.draw(G, pos, with_labels=True, node_color='lightblue', edge_color='gray', node_size=2000, font_size=10)\n",
    "nx.draw_networkx_edge_labels(G, pos, edge_labels={(u, v): G.nodes[v]['duration'] for u, v in G.edges()}, font_size=8)\n",
    "plt.title(\"Граф сетевого планирования\")\n",
    "plt.show()"
   ]
  },
  {
   "cell_type": "code",
   "execution_count": null,
   "id": "e3a3aaf5",
   "metadata": {},
   "outputs": [],
   "source": []
  }
 ],
 "metadata": {
  "kernelspec": {
   "display_name": "Python 3 (ipykernel)",
   "language": "python",
   "name": "python3"
  },
  "language_info": {
   "codemirror_mode": {
    "name": "ipython",
    "version": 3
   },
   "file_extension": ".py",
   "mimetype": "text/x-python",
   "name": "python",
   "nbconvert_exporter": "python",
   "pygments_lexer": "ipython3",
   "version": "3.11.5"
  }
 },
 "nbformat": 4,
 "nbformat_minor": 5
}
