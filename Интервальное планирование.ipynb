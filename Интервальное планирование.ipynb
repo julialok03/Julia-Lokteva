{
 "cells": [
  {
   "cell_type": "code",
   "execution_count": 1,
   "id": "fcc2a302",
   "metadata": {},
   "outputs": [],
   "source": [
    "data = [\n",
    "    [1, 0, 10],\n",
    "    [2, 9, 10],\n",
    "    [3, 1, 2],\n",
    "    [4, 1, 3],\n",
    "    [5, 2, 4],\n",
    "    [6, 2, 3],\n",
    "    [7, 3, 10],\n",
    "    [8, 4, 8],\n",
    "    [9, 4, 9],\n",
    "    [10, 5, 7],\n",
    "    [11, 2, 6],\n",
    "    [12, 5, 9],\n",
    "    [13, 4, 7],\n",
    "    [14, 6, 7],\n",
    "    [15, 1, 7]\n",
    "]"
   ]
  },
  {
   "cell_type": "code",
   "execution_count": 2,
   "id": "04170273",
   "metadata": {},
   "outputs": [],
   "source": [
    "data1 = [\n",
    "    [1, 6, 10],\n",
    "    [2, 2, 3],\n",
    "    [3, 0, 9],\n",
    "    [4, 2, 7],\n",
    "    [5, 4, 10],\n",
    "    [6, 9, 10],\n",
    "    [7, 4, 9],\n",
    "    [8, 2, 4],\n",
    "    [9, 1, 5],\n",
    "    [10, 9, 10],\n",
    "    [11, 5, 8],\n",
    "    [12, 4, 7],\n",
    "    [13, 6, 8],\n",
    "    [14, 2, 5],\n",
    "    [15, 3, 7]\n",
    "]"
   ]
  },
  {
   "cell_type": "code",
   "execution_count": 3,
   "id": "e53927dc",
   "metadata": {},
   "outputs": [],
   "source": [
    "data2 = [\n",
    "    [1, 1, 5],\n",
    "    [2, 0, 1],\n",
    "    [3, 3, 7],\n",
    "    [4, 4, 7],\n",
    "    [5, 4, 10],\n",
    "    [6, 5, 6],\n",
    "    [7, 3, 10],\n",
    "    [8, 2, 2],\n",
    "    [9, 0, 6],\n",
    "    [10, 3, 3],\n",
    "    [11, 6, 6],\n",
    "    [12, 6, 7],\n",
    "    [13, 1, 3],\n",
    "    [14, 7, 10],\n",
    "    [15, 5, 6]\n",
    "]"
   ]
  },
  {
   "cell_type": "code",
   "execution_count": 4,
   "id": "2d87de75",
   "metadata": {},
   "outputs": [],
   "source": [
    "def last_end (data):\n",
    "    data.sort(key=lambda x: x[2])  #сортируем по концу\n",
    "\n",
    "    selected = []  #заявки\n",
    "    last_end_time = float('-inf')  #конец последнего\n",
    "    for event in data:\n",
    "        n, start, end = event \n",
    "        if start >= last_end_time: #пересечение\n",
    "            selected.append(n)  #добавляем\n",
    "            last_end_time = end  #обновляем конец\n",
    "    print(\"Выбранные заявки:\", selected) \n",
    "    return selected"
   ]
  },
  {
   "cell_type": "code",
   "execution_count": 5,
   "id": "2d7fc974",
   "metadata": {},
   "outputs": [],
   "source": [
    "def last_start (data):\n",
    "    data.sort(key=lambda x: x[1], reverse=True)  #сортируем по началу наоборот\n",
    "\n",
    "    selected = []  #заявки\n",
    "    last_start_time = float('inf')  #начало последнего\n",
    "\n",
    "    for event in data:\n",
    "        n, start, end = event \n",
    "        if end <= last_start_time:  #пересечение\n",
    "            selected.append(n)  #добавляем\n",
    "            last_start_time = start  #обновляем конец\n",
    "\n",
    "    print(\"Выбранные заявки:\", selected)\n",
    "    return selected"
   ]
  },
  {
   "cell_type": "code",
   "execution_count": 8,
   "id": "d262075a",
   "metadata": {},
   "outputs": [
    {
     "name": "stdout",
     "output_type": "stream",
     "text": [
      "Выбранные заявки: [2, 12, 6]\n",
      "Выбранные заявки: [6, 13, 2]\n"
     ]
    }
   ],
   "source": [
    "selected = last_end(data1)\n",
    "selected1 = last_start(data1)"
   ]
  },
  {
   "cell_type": "code",
   "execution_count": 12,
   "id": "9184b6bf",
   "metadata": {},
   "outputs": [
    {
     "data": {
      "image/png": "[encoded data removed]",
      "text/plain": [
       "<Figure size 640x480 with 1 Axes>"
      ]
     },
     "metadata": {},
     "output_type": "display_data"
    }
   ],
   "source": [
    "import matplotlib.pyplot as plt\n",
    "\n",
    "filtered_data = [item for item in data if item[0] in selected]\n",
    "\n",
    "fig, ax = plt.subplots()\n",
    "for i, (number, start, end) in enumerate(filtered_data):\n",
    "    ax.barh(i, end - start, left=start, height=0.4, align='center', label=str(number))\n",
    "    ax.text(start + (end - start) / 2, i, str(number), va='center', ha='center', color='white')\n",
    "\n",
    "ax.set_yticks(range(len(filtered_data)))\n",
    "ax.set_yticklabels([str(item[0]) for item in filtered_data])\n",
    "ax.set_xlabel('Время')\n",
    "\n",
    "plt.tight_layout()\n",
    "plt.show()"
   ]
  },
  {
   "cell_type": "markdown",
   "id": "65c8a900",
   "metadata": {},
   "source": [
    "# Время простоя"
   ]
  },
  {
   "cell_type": "code",
   "execution_count": 31,
   "id": "64b648f9",
   "metadata": {},
   "outputs": [],
   "source": [
    "def pr(selected):\n",
    "    sorted_t = sorted(selected, key=lambda x: x[1])\n",
    "    total = 0\n",
    "    prev_end = sorted_t[0][2]  # Конец первой задачи\n",
    "\n",
    "    # Проходим по всем задачам, начиная со второй\n",
    "    for task in sorted_t[1:]:\n",
    "        start, end = task[1], task[2]\n",
    "        # Если есть разрыв между предыдущей задачей и текущей\n",
    "        if start > prev_end:\n",
    "            total += start - prev_end  # Добавляем время простоя\n",
    "        prev_end = max(prev_end, end)  # Обновляем конец последней задачи\n",
    "\n",
    "    return total\n"
   ]
  },
  {
   "cell_type": "code",
   "execution_count": 32,
   "id": "6254a21c",
   "metadata": {},
   "outputs": [
    {
     "data": {
      "text/plain": [
       "4"
      ]
     },
     "execution_count": 32,
     "metadata": {},
     "output_type": "execute_result"
    }
   ],
   "source": [
    "filtered_1 = [item for item in data if item[0] in selected]\n",
    "\n",
    "pr(filtered_1)"
   ]
  },
  {
   "cell_type": "code",
   "execution_count": null,
   "id": "0a369d87",
   "metadata": {},
   "outputs": [],
   "source": []
  }
 ],
 "metadata": {
  "kernelspec": {
   "display_name": "Python 3 (ipykernel)",
   "language": "python",
   "name": "python3"
  },
  "language_info": {
   "codemirror_mode": {
    "name": "ipython",
    "version": 3
   },
   "file_extension": ".py",
   "mimetype": "text/x-python",
   "name": "python",
   "nbconvert_exporter": "python",
   "pygments_lexer": "ipython3",
   "version": "3.11.5"
  }
 },
 "nbformat": 4,
 "nbformat_minor": 5
}
